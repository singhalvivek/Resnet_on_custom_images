{
  "nbformat": 4,
  "nbformat_minor": 0,
  "metadata": {
    "colab": {
      "name": "classification_with_resnet_fcn.ipynb",
      "provenance": [],
      "authorship_tag": "ABX9TyOpPMNfcLfic07hQntPWb9Q",
      "include_colab_link": true
    },
    "kernelspec": {
      "name": "python3",
      "display_name": "Python 3"
    },
    "language_info": {
      "name": "python"
    },
    "accelerator": "GPU"
  },
  "cells": [
    {
      "cell_type": "markdown",
      "metadata": {
        "id": "view-in-github",
        "colab_type": "text"
      },
      "source": [
        "<a href=\"https://colab.research.google.com/github/singhalvivek/Resnet_on_custom_images/blob/main/classification_with_resnet_fcn.ipynb\" target=\"_parent\"><img src=\"https://colab.research.google.com/assets/colab-badge.svg\" alt=\"Open In Colab\"/></a>"
      ]
    },
    {
      "cell_type": "code",
      "execution_count": 1,
      "metadata": {
        "id": "3yp6jMiwbWGX"
      },
      "outputs": [],
      "source": [
        "from __future__ import absolute_import\n",
        "from __future__ import division\n",
        "from __future__ import print_function\n",
        "import keras as K\n",
        "from keras import regularizers\n",
        "from keras.layers import BatchNormalization, Activation\n",
        "from keras.layers import Conv2D, Conv3D, ConvLSTM2D\n",
        "from keras import layers\n",
        "from keras import models\n",
        "from keras.layers.core import Lambda\n",
        "from keras.layers import  TimeDistributed, Reshape\n",
        "\n",
        "import pandas as pd\n",
        "import numpy as np\n",
        "import seaborn as sns\n",
        "import matplotlib.pyplot as plt\n",
        "from matplotlib.image import  imread\n",
        "\n",
        "import tensorflow\n",
        "from keras.layers import Dense, Conv2D, BatchNormalization, Activation\n",
        "from keras.layers import AveragePooling2D, Input, Flatten\n",
        "from keras.layers.merge import add\n",
        "from tensorflow.keras.optimizers import Adam\n",
        "from keras.callbacks import ModelCheckpoint, LearningRateScheduler\n",
        "from keras.callbacks import ReduceLROnPlateau\n",
        "from keras.preprocessing.image import ImageDataGenerator\n",
        "from keras.regularizers import l2\n",
        "\n",
        "from tensorflow.keras.utils import plot_model\n",
        "from tensorflow.keras.utils import to_categorical\n",
        "import numpy as np\n",
        "import os"
      ]
    },
    {
      "cell_type": "code",
      "source": [
        "reg_weight = 1.e-4\n"
      ],
      "metadata": {
        "id": "RA8_7HvCbwph"
      },
      "execution_count": 2,
      "outputs": []
    },
    {
      "cell_type": "code",
      "source": [
        "n =3\n",
        "version = 2"
      ],
      "metadata": {
        "id": "9QiuzDSa5ul_"
      },
      "execution_count": 3,
      "outputs": []
    },
    {
      "cell_type": "code",
      "source": [
        "from google.colab import drive\n",
        "drive.mount('/content/drive')"
      ],
      "metadata": {
        "colab": {
          "base_uri": "https://localhost:8080/"
        },
        "id": "QlM92gMx5yej",
        "outputId": "697f58bb-ff4b-413c-e53f-9cc4544c7396"
      },
      "execution_count": 4,
      "outputs": [
        {
          "output_type": "stream",
          "name": "stdout",
          "text": [
            "Mounted at /content/drive\n"
          ]
        }
      ]
    },
    {
      "cell_type": "code",
      "source": [
        "data_dir = \"/content/drive/MyDrive/cell_images\""
      ],
      "metadata": {
        "id": "h1u57zG4505q"
      },
      "execution_count": 5,
      "outputs": []
    },
    {
      "cell_type": "code",
      "source": [
        "os.listdir(data_dir)"
      ],
      "metadata": {
        "colab": {
          "base_uri": "https://localhost:8080/"
        },
        "id": "fzXvVeQU56BX",
        "outputId": "e471a8be-a805-4a88-f41e-9aad017570e2"
      },
      "execution_count": 6,
      "outputs": [
        {
          "output_type": "execute_result",
          "data": {
            "text/plain": [
              "['train', 'test']"
            ]
          },
          "metadata": {},
          "execution_count": 6
        }
      ]
    },
    {
      "cell_type": "code",
      "source": [
        "train_path = data_dir + \"/train/\""
      ],
      "metadata": {
        "id": "qZqYqGGR58TN"
      },
      "execution_count": 7,
      "outputs": []
    },
    {
      "cell_type": "code",
      "source": [
        "test_path = data_dir + \"/test/\"\n",
        "test_path"
      ],
      "metadata": {
        "colab": {
          "base_uri": "https://localhost:8080/",
          "height": 36
        },
        "id": "B3p-2k7M5_St",
        "outputId": "bc2e25d3-4eda-4937-c0e3-adf3b981ee42"
      },
      "execution_count": 8,
      "outputs": [
        {
          "output_type": "execute_result",
          "data": {
            "text/plain": [
              "'/content/drive/MyDrive/cell_images/test/'"
            ],
            "application/vnd.google.colaboratory.intrinsic+json": {
              "type": "string"
            }
          },
          "metadata": {},
          "execution_count": 8
        }
      ]
    },
    {
      "cell_type": "code",
      "source": [
        "os.listdir(train_path)"
      ],
      "metadata": {
        "colab": {
          "base_uri": "https://localhost:8080/"
        },
        "id": "qNN7O6ji6Ary",
        "outputId": "90ab5d1f-d74a-4218-f241-09c3d9162800"
      },
      "execution_count": 9,
      "outputs": [
        {
          "output_type": "execute_result",
          "data": {
            "text/plain": [
              "['uninfected', 'parasitized']"
            ]
          },
          "metadata": {},
          "execution_count": 9
        }
      ]
    },
    {
      "cell_type": "code",
      "source": [
        "os.listdir(train_path)"
      ],
      "metadata": {
        "colab": {
          "base_uri": "https://localhost:8080/"
        },
        "id": "U1HoamJpP88U",
        "outputId": "b55c9cab-c0a3-4985-8e46-3940130bac7f"
      },
      "execution_count": 10,
      "outputs": [
        {
          "output_type": "execute_result",
          "data": {
            "text/plain": [
              "['uninfected', 'parasitized']"
            ]
          },
          "metadata": {},
          "execution_count": 10
        }
      ]
    },
    {
      "cell_type": "code",
      "source": [
        "def lr_schedule(epoch):\n",
        "    \"\"\"Learning Rate Schedule\n",
        "    Learning rate is scheduled to be reduced after 80, 120, 160, 180 epochs.\n",
        "    Called automatically every epoch as part of callbacks during training.\n",
        "    # Arguments\n",
        "        epoch (int): The number of epochs\n",
        "    # Returns\n",
        "        lr (float32): learning rate\n",
        "    \"\"\"\n",
        "    lr = 1e-3\n",
        "    if epoch > 18:\n",
        "        lr *= 0.5e-3\n",
        "    elif epoch > 16:\n",
        "        lr *= 1e-3\n",
        "    elif epoch > 12:\n",
        "        lr *= 1e-2\n",
        "    elif epoch > 8:\n",
        "        lr *= 1e-1\n",
        "    print('Learning rate: ', lr)\n",
        "    return lr"
      ],
      "metadata": {
        "id": "Onylov4y6Rad"
      },
      "execution_count": 11,
      "outputs": []
    },
    {
      "cell_type": "code",
      "source": [
        "def resnet_layer(inputs,\n",
        "                 num_filters=16,\n",
        "                 kernel_size=3,\n",
        "                 strides=1,\n",
        "                 activation='relu',\n",
        "                 batch_normalization=True,\n",
        "                 conv_first=True):\n",
        "    \"\"\"2D Convolution-Batch Normalization-Activation stack builder\n",
        "    # Arguments\n",
        "        inputs (tensor): input tensor from input image or previous layer\n",
        "        num_filters (int): Conv2D number of filters\n",
        "        kernel_size (int): Conv2D square kernel dimensions\n",
        "        strides (int): Conv2D square stride dimensions\n",
        "        activation (string): activation name\n",
        "        batch_normalization (bool): whether to include batch normalization\n",
        "        conv_first (bool): conv-bn-activation (True) or\n",
        "            bn-activation-conv (False)\n",
        "    # Returns\n",
        "        x (tensor): tensor as input to the next layer\n",
        "    \"\"\"\n",
        "    conv = Conv2D(num_filters,\n",
        "                  kernel_size=kernel_size,\n",
        "                  strides=strides,\n",
        "                  padding='same',\n",
        "                  kernel_initializer='he_normal',\n",
        "                  kernel_regularizer=l2(1e-4))\n",
        "\n",
        "    x = inputs\n",
        "    if conv_first:\n",
        "        x = conv(x)\n",
        "        if batch_normalization:\n",
        "            x = BatchNormalization()(x)\n",
        "        if activation is not None:\n",
        "            x = Activation(activation)(x)\n",
        "    else:\n",
        "        if batch_normalization:\n",
        "            x = BatchNormalization()(x)\n",
        "        if activation is not None:\n",
        "            x = Activation(activation)(x)\n",
        "        x = conv(x)\n",
        "    return x\n",
        "\n",
        "def resnet_v2(input_shape, categories =2, stage_number = 3, last_conv_factor = 4,  depth = 38,  start_kernel = 3, mid_kernel = 3, input_weights = None, last_activation = 'softmax'):\n",
        "    \"\"\"ResNet Version 2 Model builder [b]\n",
        "    Stacks of (1 x 1)-(3 x 3)-(1 x 1) BN-ReLU-Conv2D or also known as\n",
        "    bottleneck layer\n",
        "    First shortcut connection per layer is 1 x 1 Conv2D.\n",
        "    Second and onwards shortcut connection is identity.\n",
        "    At the beginning of each stage, the feature map size is halved (downsampled)\n",
        "    by a convolutional layer with strides=2, while the number of filter maps is\n",
        "    doubled. Within each stage, the layers have the same number filters and the\n",
        "    same filter map sizes.\n",
        "    Features maps sizes:\n",
        "    conv1  : 32x32,  16\n",
        "    stage 0: 32x32,  64\n",
        "    stage 1: 16x16, 128\n",
        "    stage 2:  8x8,  256\n",
        "    # Arguments\n",
        "        input_shape (tensor): shape of input image tensor\n",
        "        depth (int): number of core convolutional layers\n",
        "        num_classes (int): number of classes (CIFAR10 has 10)\n",
        "    # Returns\n",
        "        model (Model): Keras model instance\n",
        "    \"\"\"\n",
        "    img_input = Input(shape = (None, None, input_shape[2]))\n",
        "    if (depth - 2) % 9 != 0:\n",
        "        raise ValueError('depth should be 9n+2 (eg 56 or 110 in [b])')\n",
        "    # Start model definition.\n",
        "    num_filters_in = 16\n",
        "    num_res_blocks = int((depth - 2) / 9)\n",
        "\n",
        "    # v2 performs Conv2D with BN-ReLU on input before splitting into 2 paths\n",
        "    x = resnet_layer(inputs=img_input,\n",
        "                     num_filters=num_filters_in,\n",
        "                     kernel_size = start_kernel,\n",
        "                     conv_first=True)\n",
        "\n",
        "    # Instantiate the stack of residual units\n",
        "    for stage in range(stage_number):\n",
        "        for res_block in range(num_res_blocks):\n",
        "            activation = 'relu'\n",
        "            batch_normalization = True\n",
        "            strides = 1\n",
        "            if stage == 0:\n",
        "                num_filters_out = num_filters_in * 4\n",
        "                if res_block == 0:  # first layer and first stage\n",
        "                    activation = None\n",
        "                    batch_normalization = False\n",
        "            else:\n",
        "                num_filters_out = num_filters_in * 2\n",
        "                if res_block == 0:  # not first layer and not first stage\n",
        "                    strides = 2  # downsample\n",
        "\n",
        "            # bottleneck residual unit\n",
        "            y = resnet_layer(inputs=x,\n",
        "                             num_filters=num_filters_in,\n",
        "                             kernel_size=1,\n",
        "                             strides=strides,\n",
        "                             activation=activation,\n",
        "                             batch_normalization=batch_normalization,\n",
        "                             conv_first=False)\n",
        "            y = resnet_layer(inputs=y,\n",
        "                             num_filters=num_filters_in,\n",
        "                               kernel_size= mid_kernel,\n",
        "                             conv_first=False)\n",
        "            y = resnet_layer(inputs=y,\n",
        "                             num_filters=num_filters_out,\n",
        "                             kernel_size=1,\n",
        "                             conv_first=False)\n",
        "            if res_block == 0:\n",
        "                # linear projection residual shortcut connection to match\n",
        "                # changed dims\n",
        "                x = resnet_layer(inputs=x,\n",
        "                                 num_filters=num_filters_out,\n",
        "                                 kernel_size=1,\n",
        "                                 strides=strides,\n",
        "                                 activation=None,\n",
        "                                 batch_normalization=False)\n",
        "              \n",
        "            x = add([x, y])\n",
        "        \n",
        "        num_filters_in = num_filters_out\n",
        "\n",
        "    # Add classifier on top.\n",
        "    # v2 has BN-ReLU before Pooling\n",
        "    x = (Conv2D(categories, kernel_size= mid_kernel,kernel_regularizer=regularizers.l2(reg_weight), padding = 'same'))(x)\n",
        "    x = BatchNormalization()(x)\n",
        "    x = Activation('relu')(x)\n",
        "    \n",
        "\n",
        "    \n",
        "    input_cat = Lambda(lambda x:x[:,:,:,0:categories])(x)\n",
        "\n",
        "\n",
        "    outputs = (Conv2D(categories, (round(128/last_conv_factor),round(128/last_conv_factor)),activation= last_activation ,kernel_regularizer=regularizers.l2(reg_weight), padding = 'valid'))(input_cat)\n",
        "    \n",
        "    inputs = img_input\n",
        "   \n",
        "     \n",
        "    # Create model.\n",
        "    model = models.Model(inputs, outputs)\n",
        "    \n",
        "    \n",
        "    if input_weights is not None:\n",
        "\n",
        "        model.load_weights(input_weights, by_name =True)\n",
        "        \n",
        "    return model"
      ],
      "metadata": {
        "id": "rKorOzYOeGf3"
      },
      "execution_count": 12,
      "outputs": []
    },
    {
      "cell_type": "code",
      "source": [
        "input_shape = (None, None, 3)\n",
        "model = resnet_v2(input_shape=input_shape, categories = 2)\n"
      ],
      "metadata": {
        "id": "FYAW1Inr6UFE"
      },
      "execution_count": 13,
      "outputs": []
    },
    {
      "cell_type": "code",
      "source": [
        "model.compile(loss=tensorflow.keras.losses.SparseCategoricalCrossentropy(from_logits=True),\n",
        "              optimizer=Adam(lr=lr_schedule(0)),\n",
        "              metrics=['accuracy'])"
      ],
      "metadata": {
        "colab": {
          "base_uri": "https://localhost:8080/"
        },
        "id": "xH0SDr8r7h_F",
        "outputId": "758d5bbb-296c-4480-c987-96cddced5db3"
      },
      "execution_count": 14,
      "outputs": [
        {
          "output_type": "stream",
          "name": "stdout",
          "text": [
            "Learning rate:  0.001\n"
          ]
        },
        {
          "output_type": "stream",
          "name": "stderr",
          "text": [
            "/usr/local/lib/python3.7/dist-packages/keras/optimizer_v2/adam.py:105: UserWarning: The `lr` argument is deprecated, use `learning_rate` instead.\n",
            "  super(Adam, self).__init__(name, **kwargs)\n"
          ]
        }
      ]
    },
    {
      "cell_type": "code",
      "source": [
        "model.summary()"
      ],
      "metadata": {
        "colab": {
          "base_uri": "https://localhost:8080/"
        },
        "id": "cIBQF5lrNpZb",
        "outputId": "c0079f00-b3c2-45a2-aeea-01a5087053db"
      },
      "execution_count": 15,
      "outputs": [
        {
          "output_type": "stream",
          "name": "stdout",
          "text": [
            "Model: \"model\"\n",
            "__________________________________________________________________________________________________\n",
            " Layer (type)                   Output Shape         Param #     Connected to                     \n",
            "==================================================================================================\n",
            " input_1 (InputLayer)           [(None, None, None,  0           []                               \n",
            "                                 3)]                                                              \n",
            "                                                                                                  \n",
            " conv2d (Conv2D)                (None, None, None,   448         ['input_1[0][0]']                \n",
            "                                16)                                                               \n",
            "                                                                                                  \n",
            " batch_normalization (BatchNorm  (None, None, None,   64         ['conv2d[0][0]']                 \n",
            " alization)                     16)                                                               \n",
            "                                                                                                  \n",
            " activation (Activation)        (None, None, None,   0           ['batch_normalization[0][0]']    \n",
            "                                16)                                                               \n",
            "                                                                                                  \n",
            " conv2d_1 (Conv2D)              (None, None, None,   272         ['activation[0][0]']             \n",
            "                                16)                                                               \n",
            "                                                                                                  \n",
            " batch_normalization_1 (BatchNo  (None, None, None,   64         ['conv2d_1[0][0]']               \n",
            " rmalization)                   16)                                                               \n",
            "                                                                                                  \n",
            " activation_1 (Activation)      (None, None, None,   0           ['batch_normalization_1[0][0]']  \n",
            "                                16)                                                               \n",
            "                                                                                                  \n",
            " conv2d_2 (Conv2D)              (None, None, None,   2320        ['activation_1[0][0]']           \n",
            "                                16)                                                               \n",
            "                                                                                                  \n",
            " batch_normalization_2 (BatchNo  (None, None, None,   64         ['conv2d_2[0][0]']               \n",
            " rmalization)                   16)                                                               \n",
            "                                                                                                  \n",
            " activation_2 (Activation)      (None, None, None,   0           ['batch_normalization_2[0][0]']  \n",
            "                                16)                                                               \n",
            "                                                                                                  \n",
            " conv2d_4 (Conv2D)              (None, None, None,   1088        ['activation[0][0]']             \n",
            "                                64)                                                               \n",
            "                                                                                                  \n",
            " conv2d_3 (Conv2D)              (None, None, None,   1088        ['activation_2[0][0]']           \n",
            "                                64)                                                               \n",
            "                                                                                                  \n",
            " add (Add)                      (None, None, None,   0           ['conv2d_4[0][0]',               \n",
            "                                64)                               'conv2d_3[0][0]']               \n",
            "                                                                                                  \n",
            " batch_normalization_3 (BatchNo  (None, None, None,   256        ['add[0][0]']                    \n",
            " rmalization)                   64)                                                               \n",
            "                                                                                                  \n",
            " activation_3 (Activation)      (None, None, None,   0           ['batch_normalization_3[0][0]']  \n",
            "                                64)                                                               \n",
            "                                                                                                  \n",
            " conv2d_5 (Conv2D)              (None, None, None,   1040        ['activation_3[0][0]']           \n",
            "                                16)                                                               \n",
            "                                                                                                  \n",
            " batch_normalization_4 (BatchNo  (None, None, None,   64         ['conv2d_5[0][0]']               \n",
            " rmalization)                   16)                                                               \n",
            "                                                                                                  \n",
            " activation_4 (Activation)      (None, None, None,   0           ['batch_normalization_4[0][0]']  \n",
            "                                16)                                                               \n",
            "                                                                                                  \n",
            " conv2d_6 (Conv2D)              (None, None, None,   2320        ['activation_4[0][0]']           \n",
            "                                16)                                                               \n",
            "                                                                                                  \n",
            " batch_normalization_5 (BatchNo  (None, None, None,   64         ['conv2d_6[0][0]']               \n",
            " rmalization)                   16)                                                               \n",
            "                                                                                                  \n",
            " activation_5 (Activation)      (None, None, None,   0           ['batch_normalization_5[0][0]']  \n",
            "                                16)                                                               \n",
            "                                                                                                  \n",
            " conv2d_7 (Conv2D)              (None, None, None,   1088        ['activation_5[0][0]']           \n",
            "                                64)                                                               \n",
            "                                                                                                  \n",
            " add_1 (Add)                    (None, None, None,   0           ['add[0][0]',                    \n",
            "                                64)                               'conv2d_7[0][0]']               \n",
            "                                                                                                  \n",
            " batch_normalization_6 (BatchNo  (None, None, None,   256        ['add_1[0][0]']                  \n",
            " rmalization)                   64)                                                               \n",
            "                                                                                                  \n",
            " activation_6 (Activation)      (None, None, None,   0           ['batch_normalization_6[0][0]']  \n",
            "                                64)                                                               \n",
            "                                                                                                  \n",
            " conv2d_8 (Conv2D)              (None, None, None,   1040        ['activation_6[0][0]']           \n",
            "                                16)                                                               \n",
            "                                                                                                  \n",
            " batch_normalization_7 (BatchNo  (None, None, None,   64         ['conv2d_8[0][0]']               \n",
            " rmalization)                   16)                                                               \n",
            "                                                                                                  \n",
            " activation_7 (Activation)      (None, None, None,   0           ['batch_normalization_7[0][0]']  \n",
            "                                16)                                                               \n",
            "                                                                                                  \n",
            " conv2d_9 (Conv2D)              (None, None, None,   2320        ['activation_7[0][0]']           \n",
            "                                16)                                                               \n",
            "                                                                                                  \n",
            " batch_normalization_8 (BatchNo  (None, None, None,   64         ['conv2d_9[0][0]']               \n",
            " rmalization)                   16)                                                               \n",
            "                                                                                                  \n",
            " activation_8 (Activation)      (None, None, None,   0           ['batch_normalization_8[0][0]']  \n",
            "                                16)                                                               \n",
            "                                                                                                  \n",
            " conv2d_10 (Conv2D)             (None, None, None,   1088        ['activation_8[0][0]']           \n",
            "                                64)                                                               \n",
            "                                                                                                  \n",
            " add_2 (Add)                    (None, None, None,   0           ['add_1[0][0]',                  \n",
            "                                64)                               'conv2d_10[0][0]']              \n",
            "                                                                                                  \n",
            " batch_normalization_9 (BatchNo  (None, None, None,   256        ['add_2[0][0]']                  \n",
            " rmalization)                   64)                                                               \n",
            "                                                                                                  \n",
            " activation_9 (Activation)      (None, None, None,   0           ['batch_normalization_9[0][0]']  \n",
            "                                64)                                                               \n",
            "                                                                                                  \n",
            " conv2d_11 (Conv2D)             (None, None, None,   1040        ['activation_9[0][0]']           \n",
            "                                16)                                                               \n",
            "                                                                                                  \n",
            " batch_normalization_10 (BatchN  (None, None, None,   64         ['conv2d_11[0][0]']              \n",
            " ormalization)                  16)                                                               \n",
            "                                                                                                  \n",
            " activation_10 (Activation)     (None, None, None,   0           ['batch_normalization_10[0][0]'] \n",
            "                                16)                                                               \n",
            "                                                                                                  \n",
            " conv2d_12 (Conv2D)             (None, None, None,   2320        ['activation_10[0][0]']          \n",
            "                                16)                                                               \n",
            "                                                                                                  \n",
            " batch_normalization_11 (BatchN  (None, None, None,   64         ['conv2d_12[0][0]']              \n",
            " ormalization)                  16)                                                               \n",
            "                                                                                                  \n",
            " activation_11 (Activation)     (None, None, None,   0           ['batch_normalization_11[0][0]'] \n",
            "                                16)                                                               \n",
            "                                                                                                  \n",
            " conv2d_13 (Conv2D)             (None, None, None,   1088        ['activation_11[0][0]']          \n",
            "                                64)                                                               \n",
            "                                                                                                  \n",
            " add_3 (Add)                    (None, None, None,   0           ['add_2[0][0]',                  \n",
            "                                64)                               'conv2d_13[0][0]']              \n",
            "                                                                                                  \n",
            " batch_normalization_12 (BatchN  (None, None, None,   256        ['add_3[0][0]']                  \n",
            " ormalization)                  64)                                                               \n",
            "                                                                                                  \n",
            " activation_12 (Activation)     (None, None, None,   0           ['batch_normalization_12[0][0]'] \n",
            "                                64)                                                               \n",
            "                                                                                                  \n",
            " conv2d_14 (Conv2D)             (None, None, None,   4160        ['activation_12[0][0]']          \n",
            "                                64)                                                               \n",
            "                                                                                                  \n",
            " batch_normalization_13 (BatchN  (None, None, None,   256        ['conv2d_14[0][0]']              \n",
            " ormalization)                  64)                                                               \n",
            "                                                                                                  \n",
            " activation_13 (Activation)     (None, None, None,   0           ['batch_normalization_13[0][0]'] \n",
            "                                64)                                                               \n",
            "                                                                                                  \n",
            " conv2d_15 (Conv2D)             (None, None, None,   36928       ['activation_13[0][0]']          \n",
            "                                64)                                                               \n",
            "                                                                                                  \n",
            " batch_normalization_14 (BatchN  (None, None, None,   256        ['conv2d_15[0][0]']              \n",
            " ormalization)                  64)                                                               \n",
            "                                                                                                  \n",
            " activation_14 (Activation)     (None, None, None,   0           ['batch_normalization_14[0][0]'] \n",
            "                                64)                                                               \n",
            "                                                                                                  \n",
            " conv2d_17 (Conv2D)             (None, None, None,   8320        ['add_3[0][0]']                  \n",
            "                                128)                                                              \n",
            "                                                                                                  \n",
            " conv2d_16 (Conv2D)             (None, None, None,   8320        ['activation_14[0][0]']          \n",
            "                                128)                                                              \n",
            "                                                                                                  \n",
            " add_4 (Add)                    (None, None, None,   0           ['conv2d_17[0][0]',              \n",
            "                                128)                              'conv2d_16[0][0]']              \n",
            "                                                                                                  \n",
            " batch_normalization_15 (BatchN  (None, None, None,   512        ['add_4[0][0]']                  \n",
            " ormalization)                  128)                                                              \n",
            "                                                                                                  \n",
            " activation_15 (Activation)     (None, None, None,   0           ['batch_normalization_15[0][0]'] \n",
            "                                128)                                                              \n",
            "                                                                                                  \n",
            " conv2d_18 (Conv2D)             (None, None, None,   8256        ['activation_15[0][0]']          \n",
            "                                64)                                                               \n",
            "                                                                                                  \n",
            " batch_normalization_16 (BatchN  (None, None, None,   256        ['conv2d_18[0][0]']              \n",
            " ormalization)                  64)                                                               \n",
            "                                                                                                  \n",
            " activation_16 (Activation)     (None, None, None,   0           ['batch_normalization_16[0][0]'] \n",
            "                                64)                                                               \n",
            "                                                                                                  \n",
            " conv2d_19 (Conv2D)             (None, None, None,   36928       ['activation_16[0][0]']          \n",
            "                                64)                                                               \n",
            "                                                                                                  \n",
            " batch_normalization_17 (BatchN  (None, None, None,   256        ['conv2d_19[0][0]']              \n",
            " ormalization)                  64)                                                               \n",
            "                                                                                                  \n",
            " activation_17 (Activation)     (None, None, None,   0           ['batch_normalization_17[0][0]'] \n",
            "                                64)                                                               \n",
            "                                                                                                  \n",
            " conv2d_20 (Conv2D)             (None, None, None,   8320        ['activation_17[0][0]']          \n",
            "                                128)                                                              \n",
            "                                                                                                  \n",
            " add_5 (Add)                    (None, None, None,   0           ['add_4[0][0]',                  \n",
            "                                128)                              'conv2d_20[0][0]']              \n",
            "                                                                                                  \n",
            " batch_normalization_18 (BatchN  (None, None, None,   512        ['add_5[0][0]']                  \n",
            " ormalization)                  128)                                                              \n",
            "                                                                                                  \n",
            " activation_18 (Activation)     (None, None, None,   0           ['batch_normalization_18[0][0]'] \n",
            "                                128)                                                              \n",
            "                                                                                                  \n",
            " conv2d_21 (Conv2D)             (None, None, None,   8256        ['activation_18[0][0]']          \n",
            "                                64)                                                               \n",
            "                                                                                                  \n",
            " batch_normalization_19 (BatchN  (None, None, None,   256        ['conv2d_21[0][0]']              \n",
            " ormalization)                  64)                                                               \n",
            "                                                                                                  \n",
            " activation_19 (Activation)     (None, None, None,   0           ['batch_normalization_19[0][0]'] \n",
            "                                64)                                                               \n",
            "                                                                                                  \n",
            " conv2d_22 (Conv2D)             (None, None, None,   36928       ['activation_19[0][0]']          \n",
            "                                64)                                                               \n",
            "                                                                                                  \n",
            " batch_normalization_20 (BatchN  (None, None, None,   256        ['conv2d_22[0][0]']              \n",
            " ormalization)                  64)                                                               \n",
            "                                                                                                  \n",
            " activation_20 (Activation)     (None, None, None,   0           ['batch_normalization_20[0][0]'] \n",
            "                                64)                                                               \n",
            "                                                                                                  \n",
            " conv2d_23 (Conv2D)             (None, None, None,   8320        ['activation_20[0][0]']          \n",
            "                                128)                                                              \n",
            "                                                                                                  \n",
            " add_6 (Add)                    (None, None, None,   0           ['add_5[0][0]',                  \n",
            "                                128)                              'conv2d_23[0][0]']              \n",
            "                                                                                                  \n",
            " batch_normalization_21 (BatchN  (None, None, None,   512        ['add_6[0][0]']                  \n",
            " ormalization)                  128)                                                              \n",
            "                                                                                                  \n",
            " activation_21 (Activation)     (None, None, None,   0           ['batch_normalization_21[0][0]'] \n",
            "                                128)                                                              \n",
            "                                                                                                  \n",
            " conv2d_24 (Conv2D)             (None, None, None,   8256        ['activation_21[0][0]']          \n",
            "                                64)                                                               \n",
            "                                                                                                  \n",
            " batch_normalization_22 (BatchN  (None, None, None,   256        ['conv2d_24[0][0]']              \n",
            " ormalization)                  64)                                                               \n",
            "                                                                                                  \n",
            " activation_22 (Activation)     (None, None, None,   0           ['batch_normalization_22[0][0]'] \n",
            "                                64)                                                               \n",
            "                                                                                                  \n",
            " conv2d_25 (Conv2D)             (None, None, None,   36928       ['activation_22[0][0]']          \n",
            "                                64)                                                               \n",
            "                                                                                                  \n",
            " batch_normalization_23 (BatchN  (None, None, None,   256        ['conv2d_25[0][0]']              \n",
            " ormalization)                  64)                                                               \n",
            "                                                                                                  \n",
            " activation_23 (Activation)     (None, None, None,   0           ['batch_normalization_23[0][0]'] \n",
            "                                64)                                                               \n",
            "                                                                                                  \n",
            " conv2d_26 (Conv2D)             (None, None, None,   8320        ['activation_23[0][0]']          \n",
            "                                128)                                                              \n",
            "                                                                                                  \n",
            " add_7 (Add)                    (None, None, None,   0           ['add_6[0][0]',                  \n",
            "                                128)                              'conv2d_26[0][0]']              \n",
            "                                                                                                  \n",
            " batch_normalization_24 (BatchN  (None, None, None,   512        ['add_7[0][0]']                  \n",
            " ormalization)                  128)                                                              \n",
            "                                                                                                  \n",
            " activation_24 (Activation)     (None, None, None,   0           ['batch_normalization_24[0][0]'] \n",
            "                                128)                                                              \n",
            "                                                                                                  \n",
            " conv2d_27 (Conv2D)             (None, None, None,   16512       ['activation_24[0][0]']          \n",
            "                                128)                                                              \n",
            "                                                                                                  \n",
            " batch_normalization_25 (BatchN  (None, None, None,   512        ['conv2d_27[0][0]']              \n",
            " ormalization)                  128)                                                              \n",
            "                                                                                                  \n",
            " activation_25 (Activation)     (None, None, None,   0           ['batch_normalization_25[0][0]'] \n",
            "                                128)                                                              \n",
            "                                                                                                  \n",
            " conv2d_28 (Conv2D)             (None, None, None,   147584      ['activation_25[0][0]']          \n",
            "                                128)                                                              \n",
            "                                                                                                  \n",
            " batch_normalization_26 (BatchN  (None, None, None,   512        ['conv2d_28[0][0]']              \n",
            " ormalization)                  128)                                                              \n",
            "                                                                                                  \n",
            " activation_26 (Activation)     (None, None, None,   0           ['batch_normalization_26[0][0]'] \n",
            "                                128)                                                              \n",
            "                                                                                                  \n",
            " conv2d_30 (Conv2D)             (None, None, None,   33024       ['add_7[0][0]']                  \n",
            "                                256)                                                              \n",
            "                                                                                                  \n",
            " conv2d_29 (Conv2D)             (None, None, None,   33024       ['activation_26[0][0]']          \n",
            "                                256)                                                              \n",
            "                                                                                                  \n",
            " add_8 (Add)                    (None, None, None,   0           ['conv2d_30[0][0]',              \n",
            "                                256)                              'conv2d_29[0][0]']              \n",
            "                                                                                                  \n",
            " batch_normalization_27 (BatchN  (None, None, None,   1024       ['add_8[0][0]']                  \n",
            " ormalization)                  256)                                                              \n",
            "                                                                                                  \n",
            " activation_27 (Activation)     (None, None, None,   0           ['batch_normalization_27[0][0]'] \n",
            "                                256)                                                              \n",
            "                                                                                                  \n",
            " conv2d_31 (Conv2D)             (None, None, None,   32896       ['activation_27[0][0]']          \n",
            "                                128)                                                              \n",
            "                                                                                                  \n",
            " batch_normalization_28 (BatchN  (None, None, None,   512        ['conv2d_31[0][0]']              \n",
            " ormalization)                  128)                                                              \n",
            "                                                                                                  \n",
            " activation_28 (Activation)     (None, None, None,   0           ['batch_normalization_28[0][0]'] \n",
            "                                128)                                                              \n",
            "                                                                                                  \n",
            " conv2d_32 (Conv2D)             (None, None, None,   147584      ['activation_28[0][0]']          \n",
            "                                128)                                                              \n",
            "                                                                                                  \n",
            " batch_normalization_29 (BatchN  (None, None, None,   512        ['conv2d_32[0][0]']              \n",
            " ormalization)                  128)                                                              \n",
            "                                                                                                  \n",
            " activation_29 (Activation)     (None, None, None,   0           ['batch_normalization_29[0][0]'] \n",
            "                                128)                                                              \n",
            "                                                                                                  \n",
            " conv2d_33 (Conv2D)             (None, None, None,   33024       ['activation_29[0][0]']          \n",
            "                                256)                                                              \n",
            "                                                                                                  \n",
            " add_9 (Add)                    (None, None, None,   0           ['add_8[0][0]',                  \n",
            "                                256)                              'conv2d_33[0][0]']              \n",
            "                                                                                                  \n",
            " batch_normalization_30 (BatchN  (None, None, None,   1024       ['add_9[0][0]']                  \n",
            " ormalization)                  256)                                                              \n",
            "                                                                                                  \n",
            " activation_30 (Activation)     (None, None, None,   0           ['batch_normalization_30[0][0]'] \n",
            "                                256)                                                              \n",
            "                                                                                                  \n",
            " conv2d_34 (Conv2D)             (None, None, None,   32896       ['activation_30[0][0]']          \n",
            "                                128)                                                              \n",
            "                                                                                                  \n",
            " batch_normalization_31 (BatchN  (None, None, None,   512        ['conv2d_34[0][0]']              \n",
            " ormalization)                  128)                                                              \n",
            "                                                                                                  \n",
            " activation_31 (Activation)     (None, None, None,   0           ['batch_normalization_31[0][0]'] \n",
            "                                128)                                                              \n",
            "                                                                                                  \n",
            " conv2d_35 (Conv2D)             (None, None, None,   147584      ['activation_31[0][0]']          \n",
            "                                128)                                                              \n",
            "                                                                                                  \n",
            " batch_normalization_32 (BatchN  (None, None, None,   512        ['conv2d_35[0][0]']              \n",
            " ormalization)                  128)                                                              \n",
            "                                                                                                  \n",
            " activation_32 (Activation)     (None, None, None,   0           ['batch_normalization_32[0][0]'] \n",
            "                                128)                                                              \n",
            "                                                                                                  \n",
            " conv2d_36 (Conv2D)             (None, None, None,   33024       ['activation_32[0][0]']          \n",
            "                                256)                                                              \n",
            "                                                                                                  \n",
            " add_10 (Add)                   (None, None, None,   0           ['add_9[0][0]',                  \n",
            "                                256)                              'conv2d_36[0][0]']              \n",
            "                                                                                                  \n",
            " batch_normalization_33 (BatchN  (None, None, None,   1024       ['add_10[0][0]']                 \n",
            " ormalization)                  256)                                                              \n",
            "                                                                                                  \n",
            " activation_33 (Activation)     (None, None, None,   0           ['batch_normalization_33[0][0]'] \n",
            "                                256)                                                              \n",
            "                                                                                                  \n",
            " conv2d_37 (Conv2D)             (None, None, None,   32896       ['activation_33[0][0]']          \n",
            "                                128)                                                              \n",
            "                                                                                                  \n",
            " batch_normalization_34 (BatchN  (None, None, None,   512        ['conv2d_37[0][0]']              \n",
            " ormalization)                  128)                                                              \n",
            "                                                                                                  \n",
            " activation_34 (Activation)     (None, None, None,   0           ['batch_normalization_34[0][0]'] \n",
            "                                128)                                                              \n",
            "                                                                                                  \n",
            " conv2d_38 (Conv2D)             (None, None, None,   147584      ['activation_34[0][0]']          \n",
            "                                128)                                                              \n",
            "                                                                                                  \n",
            " batch_normalization_35 (BatchN  (None, None, None,   512        ['conv2d_38[0][0]']              \n",
            " ormalization)                  128)                                                              \n",
            "                                                                                                  \n",
            " activation_35 (Activation)     (None, None, None,   0           ['batch_normalization_35[0][0]'] \n",
            "                                128)                                                              \n",
            "                                                                                                  \n",
            " conv2d_39 (Conv2D)             (None, None, None,   33024       ['activation_35[0][0]']          \n",
            "                                256)                                                              \n",
            "                                                                                                  \n",
            " add_11 (Add)                   (None, None, None,   0           ['add_10[0][0]',                 \n",
            "                                256)                              'conv2d_39[0][0]']              \n",
            "                                                                                                  \n",
            " conv2d_40 (Conv2D)             (None, None, None,   4610        ['add_11[0][0]']                 \n",
            "                                2)                                                                \n",
            "                                                                                                  \n",
            " batch_normalization_36 (BatchN  (None, None, None,   8          ['conv2d_40[0][0]']              \n",
            " ormalization)                  2)                                                                \n",
            "                                                                                                  \n",
            " activation_36 (Activation)     (None, None, None,   0           ['batch_normalization_36[0][0]'] \n",
            "                                2)                                                                \n",
            "                                                                                                  \n",
            " lambda (Lambda)                (None, None, None,   0           ['activation_36[0][0]']          \n",
            "                                2)                                                                \n",
            "                                                                                                  \n",
            " conv2d_41 (Conv2D)             (None, None, None,   4098        ['lambda[0][0]']                 \n",
            "                                2)                                                                \n",
            "                                                                                                  \n",
            "==================================================================================================\n",
            "Total params: 1,129,036\n",
            "Trainable params: 1,122,600\n",
            "Non-trainable params: 6,436\n",
            "__________________________________________________________________________________________________\n"
          ]
        }
      ]
    },
    {
      "cell_type": "code",
      "source": [
        "save_dir = os.path.join(os.getcwd(), 'saved_models')\n",
        "model_name = 'cifar10__model.{epoch:03d}.h5' \n",
        "if not os.path.isdir(save_dir):\n",
        "    os.makedirs(save_dir)\n",
        "filepath = os.path.join(save_dir, model_name)"
      ],
      "metadata": {
        "id": "NoYttZ_XNtHT"
      },
      "execution_count": 16,
      "outputs": []
    },
    {
      "cell_type": "code",
      "source": [
        "from tensorflow.keras.callbacks import EarlyStopping\n",
        "early_stop = EarlyStopping(monitor ='val_loss', patience=2)"
      ],
      "metadata": {
        "id": "X6NzPvl5N0Pn"
      },
      "execution_count": 17,
      "outputs": []
    },
    {
      "cell_type": "code",
      "source": [
        "image_gen = ImageDataGenerator(rotation_range = 20,\n",
        "                               height_shift_range = 0.1,\n",
        "                               width_shift_range = 0.1,\n",
        "                               shear_range = 0.1,\n",
        "                               zoom_range = 0.1,\n",
        "                               horizontal_flip = True,\n",
        "                               fill_mode = 'nearest') "
      ],
      "metadata": {
        "id": "K8K30nVUN3q9"
      },
      "execution_count": 18,
      "outputs": []
    },
    {
      "cell_type": "code",
      "source": [
        "image_shape = (132,132,3)\n",
        "batch_size = 128\n",
        "test_image_gen = image_gen.flow_from_directory(test_path, target_size= image_shape[:2],color_mode='rgb', batch_size= batch_size, class_mode= 'binary', shuffle = False)"
      ],
      "metadata": {
        "colab": {
          "base_uri": "https://localhost:8080/"
        },
        "id": "-C-jlfQ3N50G",
        "outputId": "ac639ec3-c455-4c40-d5b2-2852194b1524"
      },
      "execution_count": 19,
      "outputs": [
        {
          "output_type": "stream",
          "name": "stdout",
          "text": [
            "Found 2600 images belonging to 2 classes.\n"
          ]
        }
      ]
    },
    {
      "cell_type": "code",
      "source": [
        "train_image_gen = image_gen.flow_from_directory(train_path, target_size= image_shape[:2],color_mode='rgb', batch_size= batch_size, class_mode= 'binary')\n"
      ],
      "metadata": {
        "colab": {
          "base_uri": "https://localhost:8080/"
        },
        "id": "d5hyk2kcN-rk",
        "outputId": "bfd441d2-b936-4411-ae8f-07ca2778498c"
      },
      "execution_count": 20,
      "outputs": [
        {
          "output_type": "stream",
          "name": "stdout",
          "text": [
            "Found 24998 images belonging to 2 classes.\n"
          ]
        }
      ]
    },
    {
      "cell_type": "code",
      "source": [
        "train_image_gen.class_indices"
      ],
      "metadata": {
        "colab": {
          "base_uri": "https://localhost:8080/"
        },
        "id": "ygiPDteHOKge",
        "outputId": "7b5a7262-6b26-47b8-a302-42f035d101f1"
      },
      "execution_count": 21,
      "outputs": [
        {
          "output_type": "execute_result",
          "data": {
            "text/plain": [
              "{'parasitized': 0, 'uninfected': 1}"
            ]
          },
          "metadata": {},
          "execution_count": 21
        }
      ]
    },
    {
      "cell_type": "code",
      "source": [
        "from gc import callbacks\n"
      ],
      "metadata": {
        "id": "5ecy7xMzO1hv"
      },
      "execution_count": 22,
      "outputs": []
    },
    {
      "cell_type": "code",
      "source": [
        "model.fit_generator(train_image_gen, epochs = 25, validation_data= test_image_gen, \n",
        "                    verbose = 1)"
      ],
      "metadata": {
        "colab": {
          "base_uri": "https://localhost:8080/",
          "height": 1000
        },
        "id": "lBk_29iEOMTu",
        "outputId": "2c2372ef-7c17-4003-bf75-44b0fbcdd706"
      },
      "execution_count": 24,
      "outputs": [
        {
          "output_type": "stream",
          "name": "stderr",
          "text": [
            "/usr/local/lib/python3.7/dist-packages/ipykernel_launcher.py:2: UserWarning: `Model.fit_generator` is deprecated and will be removed in a future version. Please use `Model.fit`, which supports generators.\n",
            "  \n"
          ]
        },
        {
          "output_type": "stream",
          "name": "stdout",
          "text": [
            "Epoch 1/25\n"
          ]
        },
        {
          "output_type": "error",
          "ename": "InvalidArgumentError",
          "evalue": "ignored",
          "traceback": [
            "\u001b[0;31m---------------------------------------------------------------------------\u001b[0m",
            "\u001b[0;31mInvalidArgumentError\u001b[0m                      Traceback (most recent call last)",
            "\u001b[0;32m<ipython-input-24-39795fd1a6d3>\u001b[0m in \u001b[0;36m<module>\u001b[0;34m()\u001b[0m\n\u001b[1;32m      1\u001b[0m model.fit_generator(train_image_gen, epochs = 25, validation_data= test_image_gen, \n\u001b[0;32m----> 2\u001b[0;31m                     verbose = 1)\n\u001b[0m",
            "\u001b[0;32m/usr/local/lib/python3.7/dist-packages/keras/engine/training.py\u001b[0m in \u001b[0;36mfit_generator\u001b[0;34m(self, generator, steps_per_epoch, epochs, verbose, callbacks, validation_data, validation_steps, validation_freq, class_weight, max_queue_size, workers, use_multiprocessing, shuffle, initial_epoch)\u001b[0m\n\u001b[1;32m   2221\u001b[0m         \u001b[0muse_multiprocessing\u001b[0m\u001b[0;34m=\u001b[0m\u001b[0muse_multiprocessing\u001b[0m\u001b[0;34m,\u001b[0m\u001b[0;34m\u001b[0m\u001b[0;34m\u001b[0m\u001b[0m\n\u001b[1;32m   2222\u001b[0m         \u001b[0mshuffle\u001b[0m\u001b[0;34m=\u001b[0m\u001b[0mshuffle\u001b[0m\u001b[0;34m,\u001b[0m\u001b[0;34m\u001b[0m\u001b[0;34m\u001b[0m\u001b[0m\n\u001b[0;32m-> 2223\u001b[0;31m         initial_epoch=initial_epoch)\n\u001b[0m\u001b[1;32m   2224\u001b[0m \u001b[0;34m\u001b[0m\u001b[0m\n\u001b[1;32m   2225\u001b[0m   \u001b[0;34m@\u001b[0m\u001b[0mdoc_controls\u001b[0m\u001b[0;34m.\u001b[0m\u001b[0mdo_not_generate_docs\u001b[0m\u001b[0;34m\u001b[0m\u001b[0;34m\u001b[0m\u001b[0m\n",
            "\u001b[0;32m/usr/local/lib/python3.7/dist-packages/keras/utils/traceback_utils.py\u001b[0m in \u001b[0;36merror_handler\u001b[0;34m(*args, **kwargs)\u001b[0m\n\u001b[1;32m     65\u001b[0m     \u001b[0;32mexcept\u001b[0m \u001b[0mException\u001b[0m \u001b[0;32mas\u001b[0m \u001b[0me\u001b[0m\u001b[0;34m:\u001b[0m  \u001b[0;31m# pylint: disable=broad-except\u001b[0m\u001b[0;34m\u001b[0m\u001b[0;34m\u001b[0m\u001b[0m\n\u001b[1;32m     66\u001b[0m       \u001b[0mfiltered_tb\u001b[0m \u001b[0;34m=\u001b[0m \u001b[0m_process_traceback_frames\u001b[0m\u001b[0;34m(\u001b[0m\u001b[0me\u001b[0m\u001b[0;34m.\u001b[0m\u001b[0m__traceback__\u001b[0m\u001b[0;34m)\u001b[0m\u001b[0;34m\u001b[0m\u001b[0;34m\u001b[0m\u001b[0m\n\u001b[0;32m---> 67\u001b[0;31m       \u001b[0;32mraise\u001b[0m \u001b[0me\u001b[0m\u001b[0;34m.\u001b[0m\u001b[0mwith_traceback\u001b[0m\u001b[0;34m(\u001b[0m\u001b[0mfiltered_tb\u001b[0m\u001b[0;34m)\u001b[0m \u001b[0;32mfrom\u001b[0m \u001b[0;32mNone\u001b[0m\u001b[0;34m\u001b[0m\u001b[0;34m\u001b[0m\u001b[0m\n\u001b[0m\u001b[1;32m     68\u001b[0m     \u001b[0;32mfinally\u001b[0m\u001b[0;34m:\u001b[0m\u001b[0;34m\u001b[0m\u001b[0;34m\u001b[0m\u001b[0m\n\u001b[1;32m     69\u001b[0m       \u001b[0;32mdel\u001b[0m \u001b[0mfiltered_tb\u001b[0m\u001b[0;34m\u001b[0m\u001b[0;34m\u001b[0m\u001b[0m\n",
            "\u001b[0;32m/usr/local/lib/python3.7/dist-packages/tensorflow/python/eager/execute.py\u001b[0m in \u001b[0;36mquick_execute\u001b[0;34m(op_name, num_outputs, inputs, attrs, ctx, name)\u001b[0m\n\u001b[1;32m     53\u001b[0m     \u001b[0mctx\u001b[0m\u001b[0;34m.\u001b[0m\u001b[0mensure_initialized\u001b[0m\u001b[0;34m(\u001b[0m\u001b[0;34m)\u001b[0m\u001b[0;34m\u001b[0m\u001b[0;34m\u001b[0m\u001b[0m\n\u001b[1;32m     54\u001b[0m     tensors = pywrap_tfe.TFE_Py_Execute(ctx._handle, device_name, op_name,\n\u001b[0;32m---> 55\u001b[0;31m                                         inputs, attrs, num_outputs)\n\u001b[0m\u001b[1;32m     56\u001b[0m   \u001b[0;32mexcept\u001b[0m \u001b[0mcore\u001b[0m\u001b[0;34m.\u001b[0m\u001b[0m_NotOkStatusException\u001b[0m \u001b[0;32mas\u001b[0m \u001b[0me\u001b[0m\u001b[0;34m:\u001b[0m\u001b[0;34m\u001b[0m\u001b[0;34m\u001b[0m\u001b[0m\n\u001b[1;32m     57\u001b[0m     \u001b[0;32mif\u001b[0m \u001b[0mname\u001b[0m \u001b[0;32mis\u001b[0m \u001b[0;32mnot\u001b[0m \u001b[0;32mNone\u001b[0m\u001b[0;34m:\u001b[0m\u001b[0;34m\u001b[0m\u001b[0;34m\u001b[0m\u001b[0m\n",
            "\u001b[0;31mInvalidArgumentError\u001b[0m: Graph execution error:\n\nDetected at node 'Equal' defined at (most recent call last):\n    File \"/usr/lib/python3.7/runpy.py\", line 193, in _run_module_as_main\n      \"__main__\", mod_spec)\n    File \"/usr/lib/python3.7/runpy.py\", line 85, in _run_code\n      exec(code, run_globals)\n    File \"/usr/local/lib/python3.7/dist-packages/ipykernel_launcher.py\", line 16, in <module>\n      app.launch_new_instance()\n    File \"/usr/local/lib/python3.7/dist-packages/traitlets/config/application.py\", line 846, in launch_instance\n      app.start()\n    File \"/usr/local/lib/python3.7/dist-packages/ipykernel/kernelapp.py\", line 499, in start\n      self.io_loop.start()\n    File \"/usr/local/lib/python3.7/dist-packages/tornado/platform/asyncio.py\", line 132, in start\n      self.asyncio_loop.run_forever()\n    File \"/usr/lib/python3.7/asyncio/base_events.py\", line 541, in run_forever\n      self._run_once()\n    File \"/usr/lib/python3.7/asyncio/base_events.py\", line 1786, in _run_once\n      handle._run()\n    File \"/usr/lib/python3.7/asyncio/events.py\", line 88, in _run\n      self._context.run(self._callback, *self._args)\n    File \"/usr/local/lib/python3.7/dist-packages/tornado/ioloop.py\", line 758, in _run_callback\n      ret = callback()\n    File \"/usr/local/lib/python3.7/dist-packages/tornado/stack_context.py\", line 300, in null_wrapper\n      return fn(*args, **kwargs)\n    File \"/usr/local/lib/python3.7/dist-packages/zmq/eventloop/zmqstream.py\", line 661, in <lambda>\n      self.io_loop.add_callback(lambda: self._handle_events(self.socket, 0))\n    File \"/usr/local/lib/python3.7/dist-packages/zmq/eventloop/zmqstream.py\", line 577, in _handle_events\n      self._handle_recv()\n    File \"/usr/local/lib/python3.7/dist-packages/zmq/eventloop/zmqstream.py\", line 606, in _handle_recv\n      self._run_callback(callback, msg)\n    File \"/usr/local/lib/python3.7/dist-packages/zmq/eventloop/zmqstream.py\", line 556, in _run_callback\n      callback(*args, **kwargs)\n    File \"/usr/local/lib/python3.7/dist-packages/tornado/stack_context.py\", line 300, in null_wrapper\n      return fn(*args, **kwargs)\n    File \"/usr/local/lib/python3.7/dist-packages/ipykernel/kernelbase.py\", line 283, in dispatcher\n      return self.dispatch_shell(stream, msg)\n    File \"/usr/local/lib/python3.7/dist-packages/ipykernel/kernelbase.py\", line 233, in dispatch_shell\n      handler(stream, idents, msg)\n    File \"/usr/local/lib/python3.7/dist-packages/ipykernel/kernelbase.py\", line 399, in execute_request\n      user_expressions, allow_stdin)\n    File \"/usr/local/lib/python3.7/dist-packages/ipykernel/ipkernel.py\", line 208, in do_execute\n      res = shell.run_cell(code, store_history=store_history, silent=silent)\n    File \"/usr/local/lib/python3.7/dist-packages/ipykernel/zmqshell.py\", line 537, in run_cell\n      return super(ZMQInteractiveShell, self).run_cell(*args, **kwargs)\n    File \"/usr/local/lib/python3.7/dist-packages/IPython/core/interactiveshell.py\", line 2718, in run_cell\n      interactivity=interactivity, compiler=compiler, result=result)\n    File \"/usr/local/lib/python3.7/dist-packages/IPython/core/interactiveshell.py\", line 2828, in run_ast_nodes\n      if self.run_code(code, result):\n    File \"/usr/local/lib/python3.7/dist-packages/IPython/core/interactiveshell.py\", line 2882, in run_code\n      exec(code_obj, self.user_global_ns, self.user_ns)\n    File \"<ipython-input-23-6e8b5a9b6411>\", line 3, in <module>\n      callbacks = early_stop)\n    File \"/usr/local/lib/python3.7/dist-packages/keras/engine/training.py\", line 2223, in fit_generator\n      initial_epoch=initial_epoch)\n    File \"/usr/local/lib/python3.7/dist-packages/keras/utils/traceback_utils.py\", line 64, in error_handler\n      return fn(*args, **kwargs)\n    File \"/usr/local/lib/python3.7/dist-packages/keras/engine/training.py\", line 1384, in fit\n      tmp_logs = self.train_function(iterator)\n    File \"/usr/local/lib/python3.7/dist-packages/keras/engine/training.py\", line 1021, in train_function\n      return step_function(self, iterator)\n    File \"/usr/local/lib/python3.7/dist-packages/keras/engine/training.py\", line 1010, in step_function\n      outputs = model.distribute_strategy.run(run_step, args=(data,))\n    File \"/usr/local/lib/python3.7/dist-packages/keras/engine/training.py\", line 1000, in run_step\n      outputs = model.train_step(data)\n    File \"/usr/local/lib/python3.7/dist-packages/keras/engine/training.py\", line 864, in train_step\n      return self.compute_metrics(x, y, y_pred, sample_weight)\n    File \"/usr/local/lib/python3.7/dist-packages/keras/engine/training.py\", line 957, in compute_metrics\n      self.compiled_metrics.update_state(y, y_pred, sample_weight)\n    File \"/usr/local/lib/python3.7/dist-packages/keras/engine/compile_utils.py\", line 459, in update_state\n      metric_obj.update_state(y_t, y_p, sample_weight=mask)\n    File \"/usr/local/lib/python3.7/dist-packages/keras/utils/metrics_utils.py\", line 70, in decorated\n      update_op = update_state_fn(*args, **kwargs)\n    File \"/usr/local/lib/python3.7/dist-packages/keras/metrics.py\", line 178, in update_state_fn\n      return ag_update_state(*args, **kwargs)\n    File \"/usr/local/lib/python3.7/dist-packages/keras/metrics.py\", line 729, in update_state\n      matches = ag_fn(y_true, y_pred, **self._fn_kwargs)\n    File \"/usr/local/lib/python3.7/dist-packages/keras/metrics.py\", line 4086, in sparse_categorical_accuracy\n      return tf.cast(tf.equal(y_true, y_pred), backend.floatx())\nNode: 'Equal'\nrequired broadcastable shapes\n\t [[{{node Equal}}]] [Op:__inference_train_function_10693]"
          ]
        }
      ]
    },
    {
      "cell_type": "code",
      "source": [
        "model.evaluate_generator(test_image_gen)"
      ],
      "metadata": {
        "id": "ddujlL9COPFe"
      },
      "execution_count": null,
      "outputs": []
    },
    {
      "cell_type": "code",
      "source": [
        ""
      ],
      "metadata": {
        "id": "x5NGnoVJOYL8"
      },
      "execution_count": null,
      "outputs": []
    }
  ]
}