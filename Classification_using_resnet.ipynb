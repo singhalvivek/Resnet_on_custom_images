{
  "nbformat": 4,
  "nbformat_minor": 0,
  "metadata": {
    "colab": {
      "name": "Classification using resnet.ipynb",
      "provenance": [],
      "mount_file_id": "1n3GU0GwIoSymrTeqGKcEm3pFKAotDeg1",
      "authorship_tag": "ABX9TyNGteonfb8oY6g7cp0D0Xv6",
      "include_colab_link": true
    },
    "kernelspec": {
      "name": "python3",
      "display_name": "Python 3"
    },
    "language_info": {
      "name": "python"
    },
    "accelerator": "GPU"
  },
  "cells": [
    {
      "cell_type": "markdown",
      "metadata": {
        "id": "view-in-github",
        "colab_type": "text"
      },
      "source": [
        "<a href=\"https://colab.research.google.com/github/singhalvivek/Resnet_on_custom_images/blob/main/Classification_using_resnet.ipynb\" target=\"_parent\"><img src=\"https://colab.research.google.com/assets/colab-badge.svg\" alt=\"Open In Colab\"/></a>"
      ]
    },
    {
      "cell_type": "code",
      "source": [
        "import pandas as pd\n",
        "import numpy as np\n",
        "import seaborn as sns\n",
        "import matplotlib.pyplot as plt\n",
        "from matplotlib.image import  imread\n",
        "\n",
        "\n",
        "\n",
        "from __future__ import absolute_import\n",
        "from __future__ import division\n",
        "from __future__ import print_function\n",
        "import tensorflow\n",
        "from keras.layers import Dense, Conv2D, BatchNormalization, Activation\n",
        "from keras.layers import AveragePooling2D, Input, Flatten\n",
        "from keras.layers.merge import add\n",
        "from tensorflow.keras.optimizers import Adam\n",
        "from keras.callbacks import ModelCheckpoint, LearningRateScheduler\n",
        "from keras.callbacks import ReduceLROnPlateau\n",
        "from keras.preprocessing.image import ImageDataGenerator\n",
        "from keras.regularizers import l2\n",
        "from keras.models import Model\n",
        "from keras.datasets import cifar10\n",
        "from tensorflow.keras.utils import plot_model\n",
        "from tensorflow.keras.utils import to_categorical\n",
        "import numpy as np\n",
        "import os\n"
      ],
      "metadata": {
        "id": "sv8zySyFcWt7"
      },
      "execution_count": null,
      "outputs": []
    },
    {
      "cell_type": "code",
      "source": [
        "n =3\n",
        "version = 2"
      ],
      "metadata": {
        "id": "zsk3IzzvGB-l"
      },
      "execution_count": null,
      "outputs": []
    },
    {
      "cell_type": "code",
      "source": [
        "if version == 1:\n",
        "    depth = n * 6 + 2\n",
        "elif version == 2:\n",
        "    depth = n * 9 + 2\n",
        "\n",
        "# model name, depth and version\n",
        "model_type = 'ResNet%dv%d' % (depth, version)"
      ],
      "metadata": {
        "id": "VBXwdYMiGFNm"
      },
      "execution_count": null,
      "outputs": []
    },
    {
      "cell_type": "code",
      "source": [
        "from google.colab import drive\n",
        "drive.mount('/content/drive')"
      ],
      "metadata": {
        "colab": {
          "base_uri": "https://localhost:8080/"
        },
        "id": "UC58cN4L6Rfk",
        "outputId": "4d7936ca-2bae-4b47-87a3-75da05afe822"
      },
      "execution_count": null,
      "outputs": [
        {
          "output_type": "stream",
          "name": "stdout",
          "text": [
            "Drive already mounted at /content/drive; to attempt to forcibly remount, call drive.mount(\"/content/drive\", force_remount=True).\n"
          ]
        }
      ]
    },
    {
      "cell_type": "code",
      "source": [
        "data_dir = \"/content/drive/MyDrive/cell_images\""
      ],
      "metadata": {
        "id": "YVDIAVk8eczb"
      },
      "execution_count": null,
      "outputs": []
    },
    {
      "cell_type": "code",
      "source": [
        "os.listdir(data_dir)"
      ],
      "metadata": {
        "colab": {
          "base_uri": "https://localhost:8080/"
        },
        "id": "oG-7mY7mee-8",
        "outputId": "4eb3d752-d9d1-40d9-ba8f-717b4d736a3d"
      },
      "execution_count": null,
      "outputs": [
        {
          "output_type": "execute_result",
          "data": {
            "text/plain": [
              "['train', 'test']"
            ]
          },
          "metadata": {},
          "execution_count": 51
        }
      ]
    },
    {
      "cell_type": "code",
      "source": [
        "train_path = data_dir + \"/train/\"\n"
      ],
      "metadata": {
        "id": "Y-Fg1OZXcazc"
      },
      "execution_count": null,
      "outputs": []
    },
    {
      "cell_type": "code",
      "source": [
        "test_path = data_dir + \"/test/\"\n"
      ],
      "metadata": {
        "id": "IgK-41tLcczW"
      },
      "execution_count": null,
      "outputs": []
    },
    {
      "cell_type": "code",
      "source": [
        "test_path"
      ],
      "metadata": {
        "colab": {
          "base_uri": "https://localhost:8080/",
          "height": 36
        },
        "id": "nmyTd7mmce0X",
        "outputId": "4bc9311a-3205-4748-e2cc-4bd57a8cdb81"
      },
      "execution_count": null,
      "outputs": [
        {
          "output_type": "execute_result",
          "data": {
            "text/plain": [
              "'/content/drive/MyDrive/cell_images/test/'"
            ],
            "application/vnd.google.colaboratory.intrinsic+json": {
              "type": "string"
            }
          },
          "metadata": {},
          "execution_count": 54
        }
      ]
    },
    {
      "cell_type": "code",
      "source": [
        "os.listdir(train_path)"
      ],
      "metadata": {
        "colab": {
          "base_uri": "https://localhost:8080/"
        },
        "id": "F5J2LxV6cgpU",
        "outputId": "d0030460-735b-4987-d5fd-3a3c3f89c687"
      },
      "execution_count": null,
      "outputs": [
        {
          "output_type": "execute_result",
          "data": {
            "text/plain": [
              "['uninfected', 'parasitized']"
            ]
          },
          "metadata": {},
          "execution_count": 55
        }
      ]
    },
    {
      "cell_type": "code",
      "source": [
        "os.listdir(train_path+'parasitized')[0]"
      ],
      "metadata": {
        "colab": {
          "base_uri": "https://localhost:8080/",
          "height": 36
        },
        "id": "X_uMtZMtciXD",
        "outputId": "1622668e-f5d9-4189-8ccc-69defc96a508"
      },
      "execution_count": null,
      "outputs": [
        {
          "output_type": "execute_result",
          "data": {
            "text/plain": [
              "'C92P53ThinF_IMG_20150821_151224_cell_211.png'"
            ],
            "application/vnd.google.colaboratory.intrinsic+json": {
              "type": "string"
            }
          },
          "metadata": {},
          "execution_count": 56
        }
      ]
    },
    {
      "cell_type": "code",
      "source": [
        "p_cell = train_path+'parasitized/'+'C92P53ThinF_IMG_20150821_151224_cell_211.png'"
      ],
      "metadata": {
        "id": "QVV0SR4Ncmca"
      },
      "execution_count": null,
      "outputs": []
    },
    {
      "cell_type": "code",
      "source": [
        "imread(p_cell).shape"
      ],
      "metadata": {
        "colab": {
          "base_uri": "https://localhost:8080/"
        },
        "id": "40axEU6VcpAA",
        "outputId": "065f1dd7-f7fb-400a-ff26-5b0fef49e731"
      },
      "execution_count": null,
      "outputs": [
        {
          "output_type": "execute_result",
          "data": {
            "text/plain": [
              "(160, 175, 3)"
            ]
          },
          "metadata": {},
          "execution_count": 58
        }
      ]
    },
    {
      "cell_type": "code",
      "source": [
        "plt.imshow(imread(p_cell))"
      ],
      "metadata": {
        "colab": {
          "base_uri": "https://localhost:8080/",
          "height": 286
        },
        "id": "AKl3Js0scqyn",
        "outputId": "ca8093c2-d043-4599-a992-bb88b3b3bc2b"
      },
      "execution_count": null,
      "outputs": [
        {
          "output_type": "execute_result",
          "data": {
            "text/plain": [
              "<matplotlib.image.AxesImage at 0x7f4b74fe4f90>"
            ]
          },
          "metadata": {},
          "execution_count": 59
        },
        {
          "output_type": "display_data",
          "data": {
            "text/plain": [
              "<Figure size 432x288 with 1 Axes>"
            ],
            "image/png": "[encoded data removed]"
          },
          "metadata": {
            "needs_background": "light"
          }
        }
      ]
    },
    {
      "cell_type": "code",
      "source": [
        "os.listdir(train_path+'uninfected')[0]"
      ],
      "metadata": {
        "colab": {
          "base_uri": "https://localhost:8080/",
          "height": 36
        },
        "id": "XzuU6b5RcsWT",
        "outputId": "92e35cf0-0fd1-44e1-971d-09ae329f96d5"
      },
      "execution_count": null,
      "outputs": [
        {
          "output_type": "execute_result",
          "data": {
            "text/plain": [
              "'C91P52ThinF_IMG_20150821_124504_cell_76.png'"
            ],
            "application/vnd.google.colaboratory.intrinsic+json": {
              "type": "string"
            }
          },
          "metadata": {},
          "execution_count": 60
        }
      ]
    },
    {
      "cell_type": "code",
      "source": [
        "u_cell = train_path+'uninfected/'+'C91P52ThinF_IMG_20150821_124504_cell_76.png'"
      ],
      "metadata": {
        "id": "n74-JnDfcuop"
      },
      "execution_count": null,
      "outputs": []
    },
    {
      "cell_type": "code",
      "source": [
        "plt.imshow(imread(u_cell))"
      ],
      "metadata": {
        "colab": {
          "base_uri": "https://localhost:8080/",
          "height": 286
        },
        "id": "tklYW_QOcwvE",
        "outputId": "65763be5-c7b2-42b5-a72f-10dce34e9cc3"
      },
      "execution_count": null,
      "outputs": [
        {
          "output_type": "execute_result",
          "data": {
            "text/plain": [
              "<matplotlib.image.AxesImage at 0x7f4b74f61250>"
            ]
          },
          "metadata": {},
          "execution_count": 62
        },
        {
          "output_type": "display_data",
          "data": {
            "text/plain": [
              "<Figure size 432x288 with 1 Axes>"
            ],
            "image/png": "[encoded data removed]"
          },
          "metadata": {
            "needs_background": "light"
          }
        }
      ]
    },
    {
      "cell_type": "code",
      "source": [
        "len(os.listdir(train_path+'uninfected'))"
      ],
      "metadata": {
        "colab": {
          "base_uri": "https://localhost:8080/"
        },
        "id": "ZqYY65L6cyRs",
        "outputId": "31a16329-051d-4962-9537-7ce6add0bf01"
      },
      "execution_count": null,
      "outputs": [
        {
          "output_type": "execute_result",
          "data": {
            "text/plain": [
              "12490"
            ]
          },
          "metadata": {},
          "execution_count": 63
        }
      ]
    },
    {
      "cell_type": "code",
      "source": [
        "len(os.listdir(train_path+'parasitized'))"
      ],
      "metadata": {
        "colab": {
          "base_uri": "https://localhost:8080/"
        },
        "id": "xBAOog_Fc0m4",
        "outputId": "0389b86a-6df7-4463-f835-a680e705196d"
      },
      "execution_count": null,
      "outputs": [
        {
          "output_type": "execute_result",
          "data": {
            "text/plain": [
              "12510"
            ]
          },
          "metadata": {},
          "execution_count": 64
        }
      ]
    },
    {
      "cell_type": "code",
      "source": [
        "len(os.listdir(test_path+'uninfected'))"
      ],
      "metadata": {
        "colab": {
          "base_uri": "https://localhost:8080/"
        },
        "id": "6p8T94qsc2b-",
        "outputId": "80b7d7b1-d17e-4943-d170-9acbbd3d775f"
      },
      "execution_count": null,
      "outputs": [
        {
          "output_type": "execute_result",
          "data": {
            "text/plain": [
              "1300"
            ]
          },
          "metadata": {},
          "execution_count": 65
        }
      ]
    },
    {
      "cell_type": "code",
      "source": [
        "len(os.listdir(test_path+'parasitized'))"
      ],
      "metadata": {
        "colab": {
          "base_uri": "https://localhost:8080/"
        },
        "id": "m2t29PNjc38w",
        "outputId": "4a407655-75c2-4027-b2c9-6b7b9ef55dbb"
      },
      "execution_count": null,
      "outputs": [
        {
          "output_type": "execute_result",
          "data": {
            "text/plain": [
              "1300"
            ]
          },
          "metadata": {},
          "execution_count": 66
        }
      ]
    },
    {
      "cell_type": "code",
      "source": [
        "dim1 = []\n",
        "dim2 = []\n",
        "\n",
        "for image_filename in os.listdir(test_path +'uninfected'):\n",
        "  img = imread(test_path +'uninfected/'+image_filename)\n",
        "  d1,d2,colors = img.shape\n",
        "  dim1.append(d1)\n",
        "  dim2.append(d2)\n"
      ],
      "metadata": {
        "id": "RQHgkRdac5ZC"
      },
      "execution_count": null,
      "outputs": []
    },
    {
      "cell_type": "code",
      "source": [
        "sns.jointplot(dim2, dim1)"
      ],
      "metadata": {
        "id": "N3xwNaH2dAss",
        "colab": {
          "base_uri": "https://localhost:8080/",
          "height": 513
        },
        "outputId": "8455c417-6a24-46ee-9858-941377f370f0"
      },
      "execution_count": null,
      "outputs": [
        {
          "output_type": "stream",
          "name": "stderr",
          "text": [
            "/usr/local/lib/python3.7/dist-packages/seaborn/_decorators.py:43: FutureWarning: Pass the following variables as keyword args: x, y. From version 0.12, the only valid positional argument will be `data`, and passing other arguments without an explicit keyword will result in an error or misinterpretation.\n",
            "  FutureWarning\n"
          ]
        },
        {
          "output_type": "execute_result",
          "data": {
            "text/plain": [
              "<seaborn.axisgrid.JointGrid at 0x7f4b74f82f10>"
            ]
          },
          "metadata": {},
          "execution_count": 68
        },
        {
          "output_type": "display_data",
          "data": {
            "text/plain": [
              "<Figure size 432x432 with 3 Axes>"
            ],
            "image/png": "[encoded data removed]"
          },
          "metadata": {
            "needs_background": "light"
          }
        }
      ]
    },
    {
      "cell_type": "code",
      "source": [
        "batch_size = 32\n",
        "epochs = 200\n",
        "data_augmentation = True\n",
        "num_classes = 2"
      ],
      "metadata": {
        "id": "pmWBXAHo7u-z"
      },
      "execution_count": null,
      "outputs": []
    },
    {
      "cell_type": "code",
      "source": [
        "imread(u_cell).max()"
      ],
      "metadata": {
        "id": "Qa2HmfpaFljb",
        "colab": {
          "base_uri": "https://localhost:8080/"
        },
        "outputId": "43f78cdf-a1be-4054-d640-495a6d7e76fc"
      },
      "execution_count": null,
      "outputs": [
        {
          "output_type": "execute_result",
          "data": {
            "text/plain": [
              "0.8784314"
            ]
          },
          "metadata": {},
          "execution_count": 70
        }
      ]
    },
    {
      "cell_type": "code",
      "source": [
        "# subtracting pixel mean improves accuracy\n",
        "subtract_pixel_mean = True"
      ],
      "metadata": {
        "id": "Jo1oyMDlFsuK"
      },
      "execution_count": null,
      "outputs": []
    },
    {
      "cell_type": "code",
      "source": [
        "\n",
        "def lr_schedule(epoch):\n",
        "    \"\"\"Learning Rate Schedule\n",
        "    Learning rate is scheduled to be reduced after 80, 120, 160, 180 epochs.\n",
        "    Called automatically every epoch as part of callbacks during training.\n",
        "    # Arguments\n",
        "        epoch (int): The number of epochs\n",
        "    # Returns\n",
        "        lr (float32): learning rate\n",
        "    \"\"\"\n",
        "    lr = 1e-3\n",
        "    if epoch > 180:\n",
        "        lr *= 0.5e-3\n",
        "    elif epoch > 160:\n",
        "        lr *= 1e-3\n",
        "    elif epoch > 120:\n",
        "        lr *= 1e-2\n",
        "    elif epoch > 80:\n",
        "        lr *= 1e-1\n",
        "    print('Learning rate: ', lr)\n",
        "    return lr\n",
        "\n",
        "\n",
        "def resnet_layer(inputs,\n",
        "                 num_filters=16,\n",
        "                 kernel_size=3,\n",
        "                 strides=1,\n",
        "                 activation='relu',\n",
        "                 batch_normalization=True,\n",
        "                 conv_first=True):\n",
        "    \"\"\"2D Convolution-Batch Normalization-Activation stack builder\n",
        "    # Arguments\n",
        "        inputs (tensor): input tensor from input image or previous layer\n",
        "        num_filters (int): Conv2D number of filters\n",
        "        kernel_size (int): Conv2D square kernel dimensions\n",
        "        strides (int): Conv2D square stride dimensions\n",
        "        activation (string): activation name\n",
        "        batch_normalization (bool): whether to include batch normalization\n",
        "        conv_first (bool): conv-bn-activation (True) or\n",
        "            bn-activation-conv (False)\n",
        "    # Returns\n",
        "        x (tensor): tensor as input to the next layer\n",
        "    \"\"\"\n",
        "    conv = Conv2D(num_filters,\n",
        "                  kernel_size=kernel_size,\n",
        "                  strides=strides,\n",
        "                  padding='same',\n",
        "                  kernel_initializer='he_normal',\n",
        "                  kernel_regularizer=l2(1e-4))\n",
        "\n",
        "    x = inputs\n",
        "    if conv_first:\n",
        "        x = conv(x)\n",
        "        if batch_normalization:\n",
        "            x = BatchNormalization()(x)\n",
        "        if activation is not None:\n",
        "            x = Activation(activation)(x)\n",
        "    else:\n",
        "        if batch_normalization:\n",
        "            x = BatchNormalization()(x)\n",
        "        if activation is not None:\n",
        "            x = Activation(activation)(x)\n",
        "        x = conv(x)\n",
        "    return x\n",
        "\n",
        "\n",
        "def resnet_v1(input_shape, depth, num_classes=10):\n",
        "    \"\"\"ResNet Version 1 Model builder [a]\n",
        "    Stacks of 2 x (3 x 3) Conv2D-BN-ReLU\n",
        "    Last ReLU is after the shortcut connection.\n",
        "    At the beginning of each stage, the feature map size is halved (downsampled)\n",
        "    by a convolutional layer with strides=2, while the number of filters is\n",
        "    doubled. Within each stage, the layers have the same number filters and the\n",
        "    same number of filters.\n",
        "    Features maps sizes:\n",
        "    stage 0: 32x32, 16\n",
        "    stage 1: 16x16, 32\n",
        "    stage 2:  8x8,  64\n",
        "    The Number of parameters is approx the same as Table 6 of [a]:\n",
        "    ResNet20 0.27M\n",
        "    ResNet32 0.46M\n",
        "    ResNet44 0.66M\n",
        "    ResNet56 0.85M\n",
        "    ResNet110 1.7M\n",
        "    # Arguments\n",
        "        input_shape (tensor): shape of input image tensor\n",
        "        depth (int): number of core convolutional layers\n",
        "        num_classes (int): number of classes (CIFAR10 has 10)\n",
        "    # Returns\n",
        "        model (Model): Keras model instance\n",
        "    \"\"\"\n",
        "    if (depth - 2) % 6 != 0:\n",
        "        raise ValueError('depth should be 6n+2 (eg 20, 32, 44 in [a])')\n",
        "    # Start model definition.\n",
        "    num_filters = 16\n",
        "    num_res_blocks = int((depth - 2) / 6)\n",
        "\n",
        "    inputs = Input(shape=input_shape)\n",
        "    x = resnet_layer(inputs=inputs)\n",
        "    # Instantiate the stack of residual units\n",
        "    for stack in range(3):\n",
        "        for res_block in range(num_res_blocks):\n",
        "            strides = 1\n",
        "            if stack > 0 and res_block == 0:  # first layer but not first stack\n",
        "                strides = 2  # downsample\n",
        "            y = resnet_layer(inputs=x,\n",
        "                             num_filters=num_filters,\n",
        "                             strides=strides)\n",
        "            y = resnet_layer(inputs=y,\n",
        "                             num_filters=num_filters,\n",
        "                             activation=None)\n",
        "            if stack > 0 and res_block == 0:  # first layer but not first stack\n",
        "                # linear projection residual shortcut connection to match\n",
        "                # changed dims\n",
        "                x = resnet_layer(inputs=x,\n",
        "                                 num_filters=num_filters,\n",
        "                                 kernel_size=1,\n",
        "                                 strides=strides,\n",
        "                                 activation=None,\n",
        "                                 batch_normalization=False)\n",
        "            x = add([x, y])\n",
        "            x = Activation('relu')(x)\n",
        "        num_filters *= 2\n",
        "\n",
        "    # Add classifier on top.\n",
        "    # v1 does not use BN after last shortcut connection-ReLU\n",
        "    x = AveragePooling2D(pool_size=8)(x)\n",
        "    y = Flatten()(x)\n",
        "    outputs = Dense(num_classes,\n",
        "                    activation='softmax',\n",
        "                    kernel_initializer='he_normal')(y)\n",
        "\n",
        "    # Instantiate model.\n",
        "    model = Model(inputs=inputs, outputs=outputs)\n",
        "    return model\n",
        "\n",
        "\n",
        "def resnet_v2(input_shape, depth, num_classes=10):\n",
        "    \"\"\"ResNet Version 2 Model builder [b]\n",
        "    Stacks of (1 x 1)-(3 x 3)-(1 x 1) BN-ReLU-Conv2D or also known as\n",
        "    bottleneck layer\n",
        "    First shortcut connection per layer is 1 x 1 Conv2D.\n",
        "    Second and onwards shortcut connection is identity.\n",
        "    At the beginning of each stage, the feature map size is halved (downsampled)\n",
        "    by a convolutional layer with strides=2, while the number of filter maps is\n",
        "    doubled. Within each stage, the layers have the same number filters and the\n",
        "    same filter map sizes.\n",
        "    Features maps sizes:\n",
        "    conv1  : 32x32,  16\n",
        "    stage 0: 32x32,  64\n",
        "    stage 1: 16x16, 128\n",
        "    stage 2:  8x8,  256\n",
        "    # Arguments\n",
        "        input_shape (tensor): shape of input image tensor\n",
        "        depth (int): number of core convolutional layers\n",
        "        num_classes (int): number of classes (CIFAR10 has 10)\n",
        "    # Returns\n",
        "        model (Model): Keras model instance\n",
        "    \"\"\"\n",
        "    if (depth - 2) % 9 != 0:\n",
        "        raise ValueError('depth should be 9n+2 (eg 56 or 110 in [b])')\n",
        "    # Start model definition.\n",
        "    num_filters_in = 16\n",
        "    num_res_blocks = int((depth - 2) / 9)\n",
        "\n",
        "    inputs = Input(shape=input_shape)\n",
        "    # v2 performs Conv2D with BN-ReLU on input before splitting into 2 paths\n",
        "    x = resnet_layer(inputs=inputs,\n",
        "                     num_filters=num_filters_in,\n",
        "                     conv_first=True)\n",
        "\n",
        "    # Instantiate the stack of residual units\n",
        "    for stage in range(3):\n",
        "        for res_block in range(num_res_blocks):\n",
        "            activation = 'relu'\n",
        "            batch_normalization = True\n",
        "            strides = 1\n",
        "            if stage == 0:\n",
        "                num_filters_out = num_filters_in * 4\n",
        "                if res_block == 0:  # first layer and first stage\n",
        "                    activation = None\n",
        "                    batch_normalization = False\n",
        "            else:\n",
        "                num_filters_out = num_filters_in * 2\n",
        "                if res_block == 0:  # first layer but not first stage\n",
        "                    strides = 2    # downsample\n",
        "\n",
        "            # bottleneck residual unit\n",
        "            y = resnet_layer(inputs=x,\n",
        "                             num_filters=num_filters_in,\n",
        "                             kernel_size=1,\n",
        "                             strides=strides,\n",
        "                             activation=activation,\n",
        "                             batch_normalization=batch_normalization,\n",
        "                             conv_first=False)\n",
        "            y = resnet_layer(inputs=y,\n",
        "                             num_filters=num_filters_in,\n",
        "                             conv_first=False)\n",
        "            y = resnet_layer(inputs=y,\n",
        "                             num_filters=num_filters_out,\n",
        "                             kernel_size=1,\n",
        "                             conv_first=False)\n",
        "            if res_block == 0:\n",
        "                # linear projection residual shortcut connection to match\n",
        "                # changed dims\n",
        "                x = resnet_layer(inputs=x,\n",
        "                                 num_filters=num_filters_out,\n",
        "                                 kernel_size=1,\n",
        "                                 strides=strides,\n",
        "                                 activation=None,\n",
        "                                 batch_normalization=False)\n",
        "            x = add([x, y])\n",
        "\n",
        "        num_filters_in = num_filters_out\n",
        "\n",
        "    # add classifier on top.\n",
        "    # v2 has BN-ReLU before Pooling\n",
        "    x = BatchNormalization()(x)\n",
        "    x = Activation('relu')(x)\n",
        "    x = AveragePooling2D(pool_size=8)(x)\n",
        "    y = Flatten()(x)\n",
        "    outputs = Dense(num_classes,\n",
        "                    activation='softmax',\n",
        "                    kernel_initializer='he_normal')(y)\n",
        "\n",
        "    # instantiate model.\n",
        "    model = Model(inputs=inputs, outputs=outputs)\n",
        "    return model"
      ],
      "metadata": {
        "id": "3GGBK4w3LfuY"
      },
      "execution_count": null,
      "outputs": []
    },
    {
      "cell_type": "code",
      "source": [
        "input_shape = (128,128,3)\n",
        "if version == 2:\n",
        "    model = resnet_v2(input_shape=input_shape, depth=depth)\n",
        "else:\n",
        "    model = resnet_v1(input_shape=input_shape, depth=depth)"
      ],
      "metadata": {
        "id": "-666FVj6LsJP"
      },
      "execution_count": null,
      "outputs": []
    },
    {
      "cell_type": "code",
      "source": [
        "model.compile(loss=tensorflow.keras.losses.SparseCategoricalCrossentropy(from_logits=True),\n",
        "              optimizer=Adam(lr=lr_schedule(0)),\n",
        "              metrics=['accuracy'])"
      ],
      "metadata": {
        "id": "5qizarxZH1Lc",
        "colab": {
          "base_uri": "https://localhost:8080/"
        },
        "outputId": "0c34a5e3-b595-4468-8a44-9ae82b85223f"
      },
      "execution_count": null,
      "outputs": [
        {
          "output_type": "stream",
          "name": "stdout",
          "text": [
            "Learning rate:  0.001\n"
          ]
        },
        {
          "output_type": "stream",
          "name": "stderr",
          "text": [
            "/usr/local/lib/python3.7/dist-packages/keras/optimizer_v2/adam.py:105: UserWarning: The `lr` argument is deprecated, use `learning_rate` instead.\n",
            "  super(Adam, self).__init__(name, **kwargs)\n"
          ]
        }
      ]
    },
    {
      "cell_type": "code",
      "source": [
        "model.summary()"
      ],
      "metadata": {
        "id": "wYawnMY-NnkI",
        "colab": {
          "base_uri": "https://localhost:8080/"
        },
        "outputId": "136dc7e5-353c-4122-a13f-31d6cf4b4c49"
      },
      "execution_count": null,
      "outputs": [
        {
          "output_type": "stream",
          "name": "stdout",
          "text": [
            "Model: \"model_1\"\n",
            "__________________________________________________________________________________________________\n",
            " Layer (type)                   Output Shape         Param #     Connected to                     \n",
            "==================================================================================================\n",
            " input_2 (InputLayer)           [(None, 128, 128, 3  0           []                               \n",
            "                                )]                                                                \n",
            "                                                                                                  \n",
            " conv2d_31 (Conv2D)             (None, 128, 128, 16  448         ['input_2[0][0]']                \n",
            "                                )                                                                 \n",
            "                                                                                                  \n",
            " batch_normalization_28 (BatchN  (None, 128, 128, 16  64         ['conv2d_31[0][0]']              \n",
            " ormalization)                  )                                                                 \n",
            "                                                                                                  \n",
            " activation_28 (Activation)     (None, 128, 128, 16  0           ['batch_normalization_28[0][0]'] \n",
            "                                )                                                                 \n",
            "                                                                                                  \n",
            " conv2d_32 (Conv2D)             (None, 128, 128, 16  272         ['activation_28[0][0]']          \n",
            "                                )                                                                 \n",
            "                                                                                                  \n",
            " batch_normalization_29 (BatchN  (None, 128, 128, 16  64         ['conv2d_32[0][0]']              \n",
            " ormalization)                  )                                                                 \n",
            "                                                                                                  \n",
            " activation_29 (Activation)     (None, 128, 128, 16  0           ['batch_normalization_29[0][0]'] \n",
            "                                )                                                                 \n",
            "                                                                                                  \n",
            " conv2d_33 (Conv2D)             (None, 128, 128, 16  2320        ['activation_29[0][0]']          \n",
            "                                )                                                                 \n",
            "                                                                                                  \n",
            " batch_normalization_30 (BatchN  (None, 128, 128, 16  64         ['conv2d_33[0][0]']              \n",
            " ormalization)                  )                                                                 \n",
            "                                                                                                  \n",
            " activation_30 (Activation)     (None, 128, 128, 16  0           ['batch_normalization_30[0][0]'] \n",
            "                                )                                                                 \n",
            "                                                                                                  \n",
            " conv2d_35 (Conv2D)             (None, 128, 128, 64  1088        ['activation_28[0][0]']          \n",
            "                                )                                                                 \n",
            "                                                                                                  \n",
            " conv2d_34 (Conv2D)             (None, 128, 128, 64  1088        ['activation_30[0][0]']          \n",
            "                                )                                                                 \n",
            "                                                                                                  \n",
            " add_9 (Add)                    (None, 128, 128, 64  0           ['conv2d_35[0][0]',              \n",
            "                                )                                 'conv2d_34[0][0]']              \n",
            "                                                                                                  \n",
            " batch_normalization_31 (BatchN  (None, 128, 128, 64  256        ['add_9[0][0]']                  \n",
            " ormalization)                  )                                                                 \n",
            "                                                                                                  \n",
            " activation_31 (Activation)     (None, 128, 128, 64  0           ['batch_normalization_31[0][0]'] \n",
            "                                )                                                                 \n",
            "                                                                                                  \n",
            " conv2d_36 (Conv2D)             (None, 128, 128, 16  1040        ['activation_31[0][0]']          \n",
            "                                )                                                                 \n",
            "                                                                                                  \n",
            " batch_normalization_32 (BatchN  (None, 128, 128, 16  64         ['conv2d_36[0][0]']              \n",
            " ormalization)                  )                                                                 \n",
            "                                                                                                  \n",
            " activation_32 (Activation)     (None, 128, 128, 16  0           ['batch_normalization_32[0][0]'] \n",
            "                                )                                                                 \n",
            "                                                                                                  \n",
            " conv2d_37 (Conv2D)             (None, 128, 128, 16  2320        ['activation_32[0][0]']          \n",
            "                                )                                                                 \n",
            "                                                                                                  \n",
            " batch_normalization_33 (BatchN  (None, 128, 128, 16  64         ['conv2d_37[0][0]']              \n",
            " ormalization)                  )                                                                 \n",
            "                                                                                                  \n",
            " activation_33 (Activation)     (None, 128, 128, 16  0           ['batch_normalization_33[0][0]'] \n",
            "                                )                                                                 \n",
            "                                                                                                  \n",
            " conv2d_38 (Conv2D)             (None, 128, 128, 64  1088        ['activation_33[0][0]']          \n",
            "                                )                                                                 \n",
            "                                                                                                  \n",
            " add_10 (Add)                   (None, 128, 128, 64  0           ['add_9[0][0]',                  \n",
            "                                )                                 'conv2d_38[0][0]']              \n",
            "                                                                                                  \n",
            " batch_normalization_34 (BatchN  (None, 128, 128, 64  256        ['add_10[0][0]']                 \n",
            " ormalization)                  )                                                                 \n",
            "                                                                                                  \n",
            " activation_34 (Activation)     (None, 128, 128, 64  0           ['batch_normalization_34[0][0]'] \n",
            "                                )                                                                 \n",
            "                                                                                                  \n",
            " conv2d_39 (Conv2D)             (None, 128, 128, 16  1040        ['activation_34[0][0]']          \n",
            "                                )                                                                 \n",
            "                                                                                                  \n",
            " batch_normalization_35 (BatchN  (None, 128, 128, 16  64         ['conv2d_39[0][0]']              \n",
            " ormalization)                  )                                                                 \n",
            "                                                                                                  \n",
            " activation_35 (Activation)     (None, 128, 128, 16  0           ['batch_normalization_35[0][0]'] \n",
            "                                )                                                                 \n",
            "                                                                                                  \n",
            " conv2d_40 (Conv2D)             (None, 128, 128, 16  2320        ['activation_35[0][0]']          \n",
            "                                )                                                                 \n",
            "                                                                                                  \n",
            " batch_normalization_36 (BatchN  (None, 128, 128, 16  64         ['conv2d_40[0][0]']              \n",
            " ormalization)                  )                                                                 \n",
            "                                                                                                  \n",
            " activation_36 (Activation)     (None, 128, 128, 16  0           ['batch_normalization_36[0][0]'] \n",
            "                                )                                                                 \n",
            "                                                                                                  \n",
            " conv2d_41 (Conv2D)             (None, 128, 128, 64  1088        ['activation_36[0][0]']          \n",
            "                                )                                                                 \n",
            "                                                                                                  \n",
            " add_11 (Add)                   (None, 128, 128, 64  0           ['add_10[0][0]',                 \n",
            "                                )                                 'conv2d_41[0][0]']              \n",
            "                                                                                                  \n",
            " batch_normalization_37 (BatchN  (None, 128, 128, 64  256        ['add_11[0][0]']                 \n",
            " ormalization)                  )                                                                 \n",
            "                                                                                                  \n",
            " activation_37 (Activation)     (None, 128, 128, 64  0           ['batch_normalization_37[0][0]'] \n",
            "                                )                                                                 \n",
            "                                                                                                  \n",
            " conv2d_42 (Conv2D)             (None, 64, 64, 64)   4160        ['activation_37[0][0]']          \n",
            "                                                                                                  \n",
            " batch_normalization_38 (BatchN  (None, 64, 64, 64)  256         ['conv2d_42[0][0]']              \n",
            " ormalization)                                                                                    \n",
            "                                                                                                  \n",
            " activation_38 (Activation)     (None, 64, 64, 64)   0           ['batch_normalization_38[0][0]'] \n",
            "                                                                                                  \n",
            " conv2d_43 (Conv2D)             (None, 64, 64, 64)   36928       ['activation_38[0][0]']          \n",
            "                                                                                                  \n",
            " batch_normalization_39 (BatchN  (None, 64, 64, 64)  256         ['conv2d_43[0][0]']              \n",
            " ormalization)                                                                                    \n",
            "                                                                                                  \n",
            " activation_39 (Activation)     (None, 64, 64, 64)   0           ['batch_normalization_39[0][0]'] \n",
            "                                                                                                  \n",
            " conv2d_45 (Conv2D)             (None, 64, 64, 128)  8320        ['add_11[0][0]']                 \n",
            "                                                                                                  \n",
            " conv2d_44 (Conv2D)             (None, 64, 64, 128)  8320        ['activation_39[0][0]']          \n",
            "                                                                                                  \n",
            " add_12 (Add)                   (None, 64, 64, 128)  0           ['conv2d_45[0][0]',              \n",
            "                                                                  'conv2d_44[0][0]']              \n",
            "                                                                                                  \n",
            " batch_normalization_40 (BatchN  (None, 64, 64, 128)  512        ['add_12[0][0]']                 \n",
            " ormalization)                                                                                    \n",
            "                                                                                                  \n",
            " activation_40 (Activation)     (None, 64, 64, 128)  0           ['batch_normalization_40[0][0]'] \n",
            "                                                                                                  \n",
            " conv2d_46 (Conv2D)             (None, 64, 64, 64)   8256        ['activation_40[0][0]']          \n",
            "                                                                                                  \n",
            " batch_normalization_41 (BatchN  (None, 64, 64, 64)  256         ['conv2d_46[0][0]']              \n",
            " ormalization)                                                                                    \n",
            "                                                                                                  \n",
            " activation_41 (Activation)     (None, 64, 64, 64)   0           ['batch_normalization_41[0][0]'] \n",
            "                                                                                                  \n",
            " conv2d_47 (Conv2D)             (None, 64, 64, 64)   36928       ['activation_41[0][0]']          \n",
            "                                                                                                  \n",
            " batch_normalization_42 (BatchN  (None, 64, 64, 64)  256         ['conv2d_47[0][0]']              \n",
            " ormalization)                                                                                    \n",
            "                                                                                                  \n",
            " activation_42 (Activation)     (None, 64, 64, 64)   0           ['batch_normalization_42[0][0]'] \n",
            "                                                                                                  \n",
            " conv2d_48 (Conv2D)             (None, 64, 64, 128)  8320        ['activation_42[0][0]']          \n",
            "                                                                                                  \n",
            " add_13 (Add)                   (None, 64, 64, 128)  0           ['add_12[0][0]',                 \n",
            "                                                                  'conv2d_48[0][0]']              \n",
            "                                                                                                  \n",
            " batch_normalization_43 (BatchN  (None, 64, 64, 128)  512        ['add_13[0][0]']                 \n",
            " ormalization)                                                                                    \n",
            "                                                                                                  \n",
            " activation_43 (Activation)     (None, 64, 64, 128)  0           ['batch_normalization_43[0][0]'] \n",
            "                                                                                                  \n",
            " conv2d_49 (Conv2D)             (None, 64, 64, 64)   8256        ['activation_43[0][0]']          \n",
            "                                                                                                  \n",
            " batch_normalization_44 (BatchN  (None, 64, 64, 64)  256         ['conv2d_49[0][0]']              \n",
            " ormalization)                                                                                    \n",
            "                                                                                                  \n",
            " activation_44 (Activation)     (None, 64, 64, 64)   0           ['batch_normalization_44[0][0]'] \n",
            "                                                                                                  \n",
            " conv2d_50 (Conv2D)             (None, 64, 64, 64)   36928       ['activation_44[0][0]']          \n",
            "                                                                                                  \n",
            " batch_normalization_45 (BatchN  (None, 64, 64, 64)  256         ['conv2d_50[0][0]']              \n",
            " ormalization)                                                                                    \n",
            "                                                                                                  \n",
            " activation_45 (Activation)     (None, 64, 64, 64)   0           ['batch_normalization_45[0][0]'] \n",
            "                                                                                                  \n",
            " conv2d_51 (Conv2D)             (None, 64, 64, 128)  8320        ['activation_45[0][0]']          \n",
            "                                                                                                  \n",
            " add_14 (Add)                   (None, 64, 64, 128)  0           ['add_13[0][0]',                 \n",
            "                                                                  'conv2d_51[0][0]']              \n",
            "                                                                                                  \n",
            " batch_normalization_46 (BatchN  (None, 64, 64, 128)  512        ['add_14[0][0]']                 \n",
            " ormalization)                                                                                    \n",
            "                                                                                                  \n",
            " activation_46 (Activation)     (None, 64, 64, 128)  0           ['batch_normalization_46[0][0]'] \n",
            "                                                                                                  \n",
            " conv2d_52 (Conv2D)             (None, 32, 32, 128)  16512       ['activation_46[0][0]']          \n",
            "                                                                                                  \n",
            " batch_normalization_47 (BatchN  (None, 32, 32, 128)  512        ['conv2d_52[0][0]']              \n",
            " ormalization)                                                                                    \n",
            "                                                                                                  \n",
            " activation_47 (Activation)     (None, 32, 32, 128)  0           ['batch_normalization_47[0][0]'] \n",
            "                                                                                                  \n",
            " conv2d_53 (Conv2D)             (None, 32, 32, 128)  147584      ['activation_47[0][0]']          \n",
            "                                                                                                  \n",
            " batch_normalization_48 (BatchN  (None, 32, 32, 128)  512        ['conv2d_53[0][0]']              \n",
            " ormalization)                                                                                    \n",
            "                                                                                                  \n",
            " activation_48 (Activation)     (None, 32, 32, 128)  0           ['batch_normalization_48[0][0]'] \n",
            "                                                                                                  \n",
            " conv2d_55 (Conv2D)             (None, 32, 32, 256)  33024       ['add_14[0][0]']                 \n",
            "                                                                                                  \n",
            " conv2d_54 (Conv2D)             (None, 32, 32, 256)  33024       ['activation_48[0][0]']          \n",
            "                                                                                                  \n",
            " add_15 (Add)                   (None, 32, 32, 256)  0           ['conv2d_55[0][0]',              \n",
            "                                                                  'conv2d_54[0][0]']              \n",
            "                                                                                                  \n",
            " batch_normalization_49 (BatchN  (None, 32, 32, 256)  1024       ['add_15[0][0]']                 \n",
            " ormalization)                                                                                    \n",
            "                                                                                                  \n",
            " activation_49 (Activation)     (None, 32, 32, 256)  0           ['batch_normalization_49[0][0]'] \n",
            "                                                                                                  \n",
            " conv2d_56 (Conv2D)             (None, 32, 32, 128)  32896       ['activation_49[0][0]']          \n",
            "                                                                                                  \n",
            " batch_normalization_50 (BatchN  (None, 32, 32, 128)  512        ['conv2d_56[0][0]']              \n",
            " ormalization)                                                                                    \n",
            "                                                                                                  \n",
            " activation_50 (Activation)     (None, 32, 32, 128)  0           ['batch_normalization_50[0][0]'] \n",
            "                                                                                                  \n",
            " conv2d_57 (Conv2D)             (None, 32, 32, 128)  147584      ['activation_50[0][0]']          \n",
            "                                                                                                  \n",
            " batch_normalization_51 (BatchN  (None, 32, 32, 128)  512        ['conv2d_57[0][0]']              \n",
            " ormalization)                                                                                    \n",
            "                                                                                                  \n",
            " activation_51 (Activation)     (None, 32, 32, 128)  0           ['batch_normalization_51[0][0]'] \n",
            "                                                                                                  \n",
            " conv2d_58 (Conv2D)             (None, 32, 32, 256)  33024       ['activation_51[0][0]']          \n",
            "                                                                                                  \n",
            " add_16 (Add)                   (None, 32, 32, 256)  0           ['add_15[0][0]',                 \n",
            "                                                                  'conv2d_58[0][0]']              \n",
            "                                                                                                  \n",
            " batch_normalization_52 (BatchN  (None, 32, 32, 256)  1024       ['add_16[0][0]']                 \n",
            " ormalization)                                                                                    \n",
            "                                                                                                  \n",
            " activation_52 (Activation)     (None, 32, 32, 256)  0           ['batch_normalization_52[0][0]'] \n",
            "                                                                                                  \n",
            " conv2d_59 (Conv2D)             (None, 32, 32, 128)  32896       ['activation_52[0][0]']          \n",
            "                                                                                                  \n",
            " batch_normalization_53 (BatchN  (None, 32, 32, 128)  512        ['conv2d_59[0][0]']              \n",
            " ormalization)                                                                                    \n",
            "                                                                                                  \n",
            " activation_53 (Activation)     (None, 32, 32, 128)  0           ['batch_normalization_53[0][0]'] \n",
            "                                                                                                  \n",
            " conv2d_60 (Conv2D)             (None, 32, 32, 128)  147584      ['activation_53[0][0]']          \n",
            "                                                                                                  \n",
            " batch_normalization_54 (BatchN  (None, 32, 32, 128)  512        ['conv2d_60[0][0]']              \n",
            " ormalization)                                                                                    \n",
            "                                                                                                  \n",
            " activation_54 (Activation)     (None, 32, 32, 128)  0           ['batch_normalization_54[0][0]'] \n",
            "                                                                                                  \n",
            " conv2d_61 (Conv2D)             (None, 32, 32, 256)  33024       ['activation_54[0][0]']          \n",
            "                                                                                                  \n",
            " add_17 (Add)                   (None, 32, 32, 256)  0           ['add_16[0][0]',                 \n",
            "                                                                  'conv2d_61[0][0]']              \n",
            "                                                                                                  \n",
            " batch_normalization_55 (BatchN  (None, 32, 32, 256)  1024       ['add_17[0][0]']                 \n",
            " ormalization)                                                                                    \n",
            "                                                                                                  \n",
            " activation_55 (Activation)     (None, 32, 32, 256)  0           ['batch_normalization_55[0][0]'] \n",
            "                                                                                                  \n",
            " average_pooling2d_1 (AveragePo  (None, 4, 4, 256)   0           ['activation_55[0][0]']          \n",
            " oling2D)                                                                                         \n",
            "                                                                                                  \n",
            " flatten_1 (Flatten)            (None, 4096)         0           ['average_pooling2d_1[0][0]']    \n",
            "                                                                                                  \n",
            " dense_1 (Dense)                (None, 10)           40970       ['flatten_1[0][0]']              \n",
            "                                                                                                  \n",
            "==================================================================================================\n",
            "Total params: 887,402\n",
            "Trainable params: 882,186\n",
            "Non-trainable params: 5,216\n",
            "__________________________________________________________________________________________________\n"
          ]
        }
      ]
    },
    {
      "cell_type": "code",
      "source": [
        "save_dir = os.path.join(os.getcwd(), 'saved_models')\n",
        "model_name = 'cifar10_%s_model.{epoch:03d}.h5' % model_type\n",
        "if not os.path.isdir(save_dir):\n",
        "    os.makedirs(save_dir)\n",
        "filepath = os.path.join(save_dir, model_name)"
      ],
      "metadata": {
        "id": "hSwfuuLWN88S"
      },
      "execution_count": null,
      "outputs": []
    },
    {
      "cell_type": "code",
      "source": [
        "# prepare callbacks for model saving and for learning rate adjustment.\n",
        "checkpoint = ModelCheckpoint(filepath=filepath,\n",
        "                             monitor='val_acc',\n",
        "                             verbose=1,\n",
        "                             save_best_only=True)\n",
        "\n",
        "lr_scheduler = LearningRateScheduler(lr_schedule)\n",
        "\n",
        "lr_reducer = ReduceLROnPlateau(factor=np.sqrt(0.1),\n",
        "                               cooldown=0,\n",
        "                               patience=5,\n",
        "                               min_lr=0.5e-6)\n",
        "\n",
        "callbacks = [checkpoint, lr_reducer, lr_scheduler]"
      ],
      "metadata": {
        "id": "v51YK1ZWNtuc"
      },
      "execution_count": null,
      "outputs": []
    },
    {
      "cell_type": "code",
      "source": [
        "image_gen = ImageDataGenerator(rotation_range = 20,\n",
        "                               height_shift_range = 0.1,\n",
        "                               width_shift_range = 0.1,\n",
        "                               shear_range = 0.1,\n",
        "                               zoom_range = 0.1,\n",
        "                               horizontal_flip = True,\n",
        "                               fill_mode = 'nearest') "
      ],
      "metadata": {
        "id": "5mJtTb7Wllfm"
      },
      "execution_count": null,
      "outputs": []
    },
    {
      "cell_type": "code",
      "source": [
        "image_shape = (132,132,3)\n",
        "test_image_gen = image_gen.flow_from_directory(test_path, target_size= image_shape[:2],color_mode='rgb', batch_size= batch_size, class_mode= 'binary', shuffle = False)"
      ],
      "metadata": {
        "id": "wnRys2ldc77v",
        "colab": {
          "base_uri": "https://localhost:8080/"
        },
        "outputId": "9e12d655-99cd-4899-9680-7259c7e6b64d"
      },
      "execution_count": null,
      "outputs": [
        {
          "output_type": "stream",
          "name": "stdout",
          "text": [
            "Found 2600 images belonging to 2 classes.\n"
          ]
        }
      ]
    },
    {
      "cell_type": "code",
      "source": [
        "train_image_gen = image_gen.flow_from_directory(train_path, target_size= image_shape[:2],color_mode='rgb', batch_size= batch_size, class_mode= 'binary')\n"
      ],
      "metadata": {
        "id": "bC-aFXOSc1T7",
        "colab": {
          "base_uri": "https://localhost:8080/"
        },
        "outputId": "d47ceadd-2a70-43bf-d441-1a1982128545"
      },
      "execution_count": null,
      "outputs": [
        {
          "output_type": "stream",
          "name": "stdout",
          "text": [
            "Found 24998 images belonging to 2 classes.\n"
          ]
        }
      ]
    },
    {
      "cell_type": "code",
      "source": [
        "train_image_gen.class_indices"
      ],
      "metadata": {
        "id": "JlSG97wvdBdH",
        "colab": {
          "base_uri": "https://localhost:8080/"
        },
        "outputId": "95aa7c3b-3432-4f49-9d86-4314ba78e449"
      },
      "execution_count": null,
      "outputs": [
        {
          "output_type": "execute_result",
          "data": {
            "text/plain": [
              "{'parasitized': 0, 'uninfected': 1}"
            ]
          },
          "metadata": {},
          "execution_count": 81
        }
      ]
    },
    {
      "cell_type": "code",
      "source": [
        "'''if not data_augmentation:\n",
        "    print('Not using data augmentation.')\n",
        "    model.fit(x_train, y_train,\n",
        "              batch_size=batch_size,\n",
        "              epochs=epochs,\n",
        "              validation_data=(x_test, y_test),\n",
        "              shuffle=True,\n",
        "              callbacks=callbacks)\n",
        "else:\n",
        "    print('Using real-time data augmentation.')\n",
        "    # this will do preprocessing and realtime data augmentation:\n",
        "    datagen = ImageDataGenerator(\n",
        "        # set input mean to 0 over the dataset\n",
        "        featurewise_center=False,\n",
        "        # set each sample mean to 0\n",
        "        samplewise_center=False,\n",
        "        # divide inputs by std of dataset\n",
        "        featurewise_std_normalization=False,\n",
        "        # divide each input by its std\n",
        "        samplewise_std_normalization=False,\n",
        "        # apply ZCA whitening\n",
        "        zca_whitening=False,\n",
        "        # randomly rotate images in the range (deg 0 to 180)\n",
        "        rotation_range=0,\n",
        "        # randomly shift images horizontally\n",
        "        width_shift_range=0.1,\n",
        "        # randomly shift images vertically\n",
        "        height_shift_range=0.1,\n",
        "        # randomly flip images\n",
        "        horizontal_flip=True,\n",
        "        # randomly flip images\n",
        "        vertical_flip=False)\n",
        "    datagen.fit(x_train)\n",
        "    model.fit_generator(datagen.flow(x_train, y_train, batch_size=batch_size),\n",
        "                        validation_data=(x_test, y_test),\n",
        "                        epochs=epochs, verbose=1, workers=4,\n",
        "                        steps_per_epoch=len(x_train)//batch_size,\n",
        "                        callbacks = callbacks)'''"
      ],
      "metadata": {
        "id": "pHdH4jRRk9KH",
        "colab": {
          "base_uri": "https://localhost:8080/",
          "height": 140
        },
        "outputId": "c25086af-fd87-413f-cd09-88d7a363029d"
      },
      "execution_count": null,
      "outputs": [
        {
          "output_type": "execute_result",
          "data": {
            "text/plain": [
              "\"if not data_augmentation:\\n    print('Not using data augmentation.')\\n    model.fit(x_train, y_train,\\n              batch_size=batch_size,\\n              epochs=epochs,\\n              validation_data=(x_test, y_test),\\n              shuffle=True,\\n              callbacks=callbacks)\\nelse:\\n    print('Using real-time data augmentation.')\\n    # this will do preprocessing and realtime data augmentation:\\n    datagen = ImageDataGenerator(\\n        # set input mean to 0 over the dataset\\n        featurewise_center=False,\\n        # set each sample mean to 0\\n        samplewise_center=False,\\n        # divide inputs by std of dataset\\n        featurewise_std_normalization=False,\\n        # divide each input by its std\\n        samplewise_std_normalization=False,\\n        # apply ZCA whitening\\n        zca_whitening=False,\\n        # randomly rotate images in the range (deg 0 to 180)\\n        rotation_range=0,\\n        # randomly shift images horizontally\\n        width_shift_range=0.1,\\n        # randomly shift images vertically\\n        height_shift_range=0.1,\\n        # randomly flip images\\n        horizontal_flip=True,\\n        # randomly flip images\\n        vertical_flip=False)\\n    datagen.fit(x_train)\\n    model.fit_generator(datagen.flow(x_train, y_train, batch_size=batch_size),\\n                        validation_data=(x_test, y_test),\\n                        epochs=epochs, verbose=1, workers=4,\\n                        steps_per_epoch=len(x_train)//batch_size,\\n                        callbacks = callbacks)\""
            ],
            "application/vnd.google.colaboratory.intrinsic+json": {
              "type": "string"
            }
          },
          "metadata": {},
          "execution_count": 82
        }
      ]
    },
    {
      "cell_type": "code",
      "source": [
        "model.fit_generator(train_image_gen, epochs = 25, validation_data= test_image_gen, \n",
        "                    verbose = 1,\n",
        "                    callbacks = callbacks)"
      ],
      "metadata": {
        "id": "Uw6CtbI8OGo3",
        "colab": {
          "base_uri": "https://localhost:8080/"
        },
        "outputId": "2b793e86-143a-435d-93ab-013aae60cb5e"
      },
      "execution_count": null,
      "outputs": [
        {
          "output_type": "stream",
          "name": "stderr",
          "text": [
            "/usr/local/lib/python3.7/dist-packages/ipykernel_launcher.py:3: UserWarning: `Model.fit_generator` is deprecated and will be removed in a future version. Please use `Model.fit`, which supports generators.\n",
            "  This is separate from the ipykernel package so we can avoid doing imports until\n"
          ]
        },
        {
          "output_type": "stream",
          "name": "stdout",
          "text": [
            "Learning rate:  0.001\n",
            "Epoch 1/25\n"
          ]
        },
        {
          "output_type": "stream",
          "name": "stderr",
          "text": [
            "/usr/local/lib/python3.7/dist-packages/tensorflow/python/util/dispatch.py:1082: UserWarning: \"`sparse_categorical_crossentropy` received `from_logits=True`, but the `output` argument was produced by a sigmoid or softmax activation and thus does not represent logits. Was this intended?\"\n",
            "  return dispatch_target(*args, **kwargs)\n"
          ]
        },
        {
          "output_type": "stream",
          "name": "stdout",
          "text": [
            "782/782 [==============================] - ETA: 0s - loss: 0.7660 - accuracy: 0.8860WARNING:tensorflow:Can save best model only with val_acc available, skipping.\n",
            "782/782 [==============================] - 279s 346ms/step - loss: 0.7660 - accuracy: 0.8860 - val_loss: 0.5393 - val_accuracy: 0.9288 - lr: 0.0010\n",
            "Learning rate:  0.001\n",
            "Epoch 2/25\n",
            "782/782 [==============================] - ETA: 0s - loss: 0.4432 - accuracy: 0.9420WARNING:tensorflow:Can save best model only with val_acc available, skipping.\n",
            "782/782 [==============================] - 236s 301ms/step - loss: 0.4432 - accuracy: 0.9420 - val_loss: 0.4740 - val_accuracy: 0.8927 - lr: 0.0010\n",
            "Learning rate:  0.001\n",
            "Epoch 3/25\n",
            "782/782 [==============================] - ETA: 0s - loss: 0.3361 - accuracy: 0.9470WARNING:tensorflow:Can save best model only with val_acc available, skipping.\n",
            "782/782 [==============================] - 237s 303ms/step - loss: 0.3361 - accuracy: 0.9470 - val_loss: 1.1667 - val_accuracy: 0.8385 - lr: 0.0010\n",
            "Learning rate:  0.001\n",
            "Epoch 4/25\n",
            "782/782 [==============================] - ETA: 0s - loss: 0.2861 - accuracy: 0.9488WARNING:tensorflow:Can save best model only with val_acc available, skipping.\n",
            "782/782 [==============================] - 237s 303ms/step - loss: 0.2861 - accuracy: 0.9488 - val_loss: 0.6576 - val_accuracy: 0.8538 - lr: 0.0010\n",
            "Learning rate:  0.001\n",
            "Epoch 5/25\n",
            "782/782 [==============================] - ETA: 0s - loss: 0.2638 - accuracy: 0.9463WARNING:tensorflow:Can save best model only with val_acc available, skipping.\n",
            "782/782 [==============================] - 237s 303ms/step - loss: 0.2638 - accuracy: 0.9463 - val_loss: 1.5141 - val_accuracy: 0.7362 - lr: 0.0010\n",
            "Learning rate:  0.001\n",
            "Epoch 6/25\n",
            "782/782 [==============================] - ETA: 0s - loss: 0.2380 - accuracy: 0.9485WARNING:tensorflow:Can save best model only with val_acc available, skipping.\n",
            "782/782 [==============================] - 236s 302ms/step - loss: 0.2380 - accuracy: 0.9485 - val_loss: 0.4536 - val_accuracy: 0.8308 - lr: 0.0010\n",
            "Learning rate:  0.001\n",
            "Epoch 7/25\n",
            "782/782 [==============================] - ETA: 0s - loss: 0.2239 - accuracy: 0.9512WARNING:tensorflow:Can save best model only with val_acc available, skipping.\n",
            "782/782 [==============================] - 235s 301ms/step - loss: 0.2239 - accuracy: 0.9512 - val_loss: 0.2755 - val_accuracy: 0.9219 - lr: 0.0010\n",
            "Learning rate:  0.001\n",
            "Epoch 8/25\n",
            "782/782 [==============================] - ETA: 0s - loss: 0.2159 - accuracy: 0.9509WARNING:tensorflow:Can save best model only with val_acc available, skipping.\n",
            "782/782 [==============================] - 236s 301ms/step - loss: 0.2159 - accuracy: 0.9509 - val_loss: 0.6352 - val_accuracy: 0.7800 - lr: 0.0010\n",
            "Learning rate:  0.001\n",
            "Epoch 9/25\n",
            "782/782 [==============================] - ETA: 0s - loss: 0.2034 - accuracy: 0.9531WARNING:tensorflow:Can save best model only with val_acc available, skipping.\n",
            "782/782 [==============================] - 236s 301ms/step - loss: 0.2034 - accuracy: 0.9531 - val_loss: 0.2381 - val_accuracy: 0.9300 - lr: 0.0010\n",
            "Learning rate:  0.001\n",
            "Epoch 10/25\n",
            "782/782 [==============================] - ETA: 0s - loss: 0.2036 - accuracy: 0.9507WARNING:tensorflow:Can save best model only with val_acc available, skipping.\n",
            "782/782 [==============================] - 235s 301ms/step - loss: 0.2036 - accuracy: 0.9507 - val_loss: 0.2175 - val_accuracy: 0.9546 - lr: 0.0010\n",
            "Learning rate:  0.001\n",
            "Epoch 11/25\n",
            "782/782 [==============================] - ETA: 0s - loss: 0.1914 - accuracy: 0.9535WARNING:tensorflow:Can save best model only with val_acc available, skipping.\n",
            "782/782 [==============================] - 235s 300ms/step - loss: 0.1914 - accuracy: 0.9535 - val_loss: 0.1935 - val_accuracy: 0.9481 - lr: 0.0010\n",
            "Learning rate:  0.001\n",
            "Epoch 12/25\n",
            "782/782 [==============================] - ETA: 0s - loss: 0.1907 - accuracy: 0.9537WARNING:tensorflow:Can save best model only with val_acc available, skipping.\n",
            "782/782 [==============================] - 234s 299ms/step - loss: 0.1907 - accuracy: 0.9537 - val_loss: 0.6591 - val_accuracy: 0.7650 - lr: 0.0010\n",
            "Learning rate:  0.001\n",
            "Epoch 13/25\n",
            "782/782 [==============================] - ETA: 0s - loss: 0.1856 - accuracy: 0.9530WARNING:tensorflow:Can save best model only with val_acc available, skipping.\n",
            "782/782 [==============================] - 235s 300ms/step - loss: 0.1856 - accuracy: 0.9530 - val_loss: 0.1982 - val_accuracy: 0.9408 - lr: 0.0010\n",
            "Learning rate:  0.001\n",
            "Epoch 14/25\n",
            "782/782 [==============================] - ETA: 0s - loss: 0.1797 - accuracy: 0.9541WARNING:tensorflow:Can save best model only with val_acc available, skipping.\n",
            "782/782 [==============================] - 234s 300ms/step - loss: 0.1797 - accuracy: 0.9541 - val_loss: 0.2083 - val_accuracy: 0.9365 - lr: 0.0010\n",
            "Learning rate:  0.001\n",
            "Epoch 15/25\n",
            "782/782 [==============================] - ETA: 0s - loss: 0.1747 - accuracy: 0.9548WARNING:tensorflow:Can save best model only with val_acc available, skipping.\n",
            "782/782 [==============================] - 234s 299ms/step - loss: 0.1747 - accuracy: 0.9548 - val_loss: 0.6788 - val_accuracy: 0.8585 - lr: 0.0010\n",
            "Learning rate:  0.001\n",
            "Epoch 16/25\n",
            "782/782 [==============================] - ETA: 0s - loss: 0.1750 - accuracy: 0.9545WARNING:tensorflow:Can save best model only with val_acc available, skipping.\n",
            "782/782 [==============================] - 234s 299ms/step - loss: 0.1750 - accuracy: 0.9545 - val_loss: 0.4902 - val_accuracy: 0.8450 - lr: 3.1623e-04\n",
            "Learning rate:  0.001\n",
            "Epoch 17/25\n",
            "782/782 [==============================] - ETA: 0s - loss: 0.1692 - accuracy: 0.9560WARNING:tensorflow:Can save best model only with val_acc available, skipping.\n",
            "782/782 [==============================] - 234s 299ms/step - loss: 0.1692 - accuracy: 0.9560 - val_loss: 0.1864 - val_accuracy: 0.9565 - lr: 0.0010\n",
            "Learning rate:  0.001\n",
            "Epoch 18/25\n",
            "782/782 [==============================] - ETA: 0s - loss: 0.1697 - accuracy: 0.9558WARNING:tensorflow:Can save best model only with val_acc available, skipping.\n",
            "782/782 [==============================] - 234s 299ms/step - loss: 0.1697 - accuracy: 0.9558 - val_loss: 0.2639 - val_accuracy: 0.9073 - lr: 0.0010\n",
            "Learning rate:  0.001\n",
            "Epoch 19/25\n",
            "782/782 [==============================] - ETA: 0s - loss: 0.1680 - accuracy: 0.9544WARNING:tensorflow:Can save best model only with val_acc available, skipping.\n",
            "782/782 [==============================] - 233s 297ms/step - loss: 0.1680 - accuracy: 0.9544 - val_loss: 0.2078 - val_accuracy: 0.9519 - lr: 0.0010\n",
            "Learning rate:  0.001\n",
            "Epoch 20/25\n",
            "782/782 [==============================] - ETA: 0s - loss: 0.1660 - accuracy: 0.9561WARNING:tensorflow:Can save best model only with val_acc available, skipping.\n",
            "782/782 [==============================] - 233s 298ms/step - loss: 0.1660 - accuracy: 0.9561 - val_loss: 0.8992 - val_accuracy: 0.7012 - lr: 0.0010\n",
            "Learning rate:  0.001\n",
            "Epoch 21/25\n",
            "782/782 [==============================] - ETA: 0s - loss: 0.1623 - accuracy: 0.9572WARNING:tensorflow:Can save best model only with val_acc available, skipping.\n",
            "782/782 [==============================] - 233s 298ms/step - loss: 0.1623 - accuracy: 0.9572 - val_loss: 0.2695 - val_accuracy: 0.9258 - lr: 0.0010\n",
            "Learning rate:  0.001\n",
            "Epoch 22/25\n",
            "782/782 [==============================] - ETA: 0s - loss: 0.1572 - accuracy: 0.9575WARNING:tensorflow:Can save best model only with val_acc available, skipping.\n",
            "782/782 [==============================] - 233s 298ms/step - loss: 0.1572 - accuracy: 0.9575 - val_loss: 0.2895 - val_accuracy: 0.8912 - lr: 3.1623e-04\n",
            "Learning rate:  0.001\n",
            "Epoch 23/25\n",
            "782/782 [==============================] - ETA: 0s - loss: 0.1592 - accuracy: 0.9571WARNING:tensorflow:Can save best model only with val_acc available, skipping.\n",
            "782/782 [==============================] - 233s 298ms/step - loss: 0.1592 - accuracy: 0.9571 - val_loss: 0.3442 - val_accuracy: 0.8842 - lr: 0.0010\n",
            "Learning rate:  0.001\n",
            "Epoch 24/25\n",
            "782/782 [==============================] - ETA: 0s - loss: 0.1533 - accuracy: 0.9582WARNING:tensorflow:Can save best model only with val_acc available, skipping.\n",
            "782/782 [==============================] - 233s 297ms/step - loss: 0.1533 - accuracy: 0.9582 - val_loss: 0.1697 - val_accuracy: 0.9488 - lr: 0.0010\n",
            "Learning rate:  0.001\n",
            "Epoch 25/25\n",
            "782/782 [==============================] - ETA: 0s - loss: 0.1531 - accuracy: 0.9584WARNING:tensorflow:Can save best model only with val_acc available, skipping.\n",
            "782/782 [==============================] - 232s 297ms/step - loss: 0.1531 - accuracy: 0.9584 - val_loss: 1.1270 - val_accuracy: 0.7381 - lr: 0.0010\n"
          ]
        },
        {
          "output_type": "execute_result",
          "data": {
            "text/plain": [
              "<keras.callbacks.History at 0x7f4b74b20e10>"
            ]
          },
          "metadata": {},
          "execution_count": 83
        }
      ]
    },
    {
      "cell_type": "code",
      "source": [
        "#scores = model.evaluate(x_test, y_test, verbose=1)\n"
      ],
      "metadata": {
        "id": "zbgMdqMh_mRw"
      },
      "execution_count": null,
      "outputs": []
    },
    {
      "cell_type": "code",
      "source": [
        "model.evaluate_generator(test_image_gen)"
      ],
      "metadata": {
        "colab": {
          "base_uri": "https://localhost:8080/"
        },
        "id": "lNFb6fbPpQtT",
        "outputId": "61f75141-9da8-412e-8103-b9722808d08d"
      },
      "execution_count": null,
      "outputs": [
        {
          "output_type": "stream",
          "name": "stderr",
          "text": [
            "/usr/local/lib/python3.7/dist-packages/ipykernel_launcher.py:1: UserWarning: `Model.evaluate_generator` is deprecated and will be removed in a future version. Please use `Model.evaluate`, which supports generators.\n",
            "  \"\"\"Entry point for launching an IPython kernel.\n"
          ]
        },
        {
          "output_type": "execute_result",
          "data": {
            "text/plain": [
              "[1.0498868227005005, 0.745769202709198]"
            ]
          },
          "metadata": {},
          "execution_count": 86
        }
      ]
    },
    {
      "cell_type": "code",
      "source": [
        "losses = pd.DataFrame(model.history.history)"
      ],
      "metadata": {
        "id": "PIKfDHJnX6-R"
      },
      "execution_count": null,
      "outputs": []
    },
    {
      "cell_type": "code",
      "source": [
        "model.metrics_names"
      ],
      "metadata": {
        "colab": {
          "base_uri": "https://localhost:8080/"
        },
        "id": "BnospQeUX7XK",
        "outputId": "acf89a66-87e6-40cd-ee04-5d4f44062f73"
      },
      "execution_count": null,
      "outputs": [
        {
          "output_type": "execute_result",
          "data": {
            "text/plain": [
              "['loss', 'accuracy']"
            ]
          },
          "metadata": {},
          "execution_count": 92
        }
      ]
    },
    {
      "cell_type": "code",
      "source": [
        "#losses[['accuracy','val_accuracy']].plot()"
      ],
      "metadata": {
        "id": "dtrAI595X88G"
      },
      "execution_count": null,
      "outputs": []
    },
    {
      "cell_type": "code",
      "source": [
        "losses"
      ],
      "metadata": {
        "colab": {
          "base_uri": "https://localhost:8080/"
        },
        "id": "GqFMpAd7YDPf",
        "outputId": "fe8e3899-bb2e-409c-93db-bb8b3b750ee0"
      },
      "execution_count": null,
      "outputs": [
        {
          "output_type": "execute_result",
          "data": {
            "text/plain": [
              "Empty DataFrame\n",
              "Columns: []\n",
              "Index: []"
            ],
            "text/html": [
              "\n",
              "  <div id=\"df-315b28fc-81a0-4c70-bf64-4247c8768de7\">\n",
              "    <div class=\"colab-df-container\">\n",
              "      <div>\n",
              "<style scoped>\n",
              "    .dataframe tbody tr th:only-of-type {\n",
              "        vertical-align: middle;\n",
              "    }\n",
              "\n",
              "    .dataframe tbody tr th {\n",
              "        vertical-align: top;\n",
              "    }\n",
              "\n",
              "    .dataframe thead th {\n",
              "        text-align: right;\n",
              "    }\n",
              "</style>\n",
              "<table border=\"1\" class=\"dataframe\">\n",
              "  <thead>\n",
              "    <tr style=\"text-align: right;\">\n",
              "      <th></th>\n",
              "    </tr>\n",
              "  </thead>\n",
              "  <tbody>\n",
              "  </tbody>\n",
              "</table>\n",
              "</div>\n",
              "      <button class=\"colab-df-convert\" onclick=\"convertToInteractive('df-315b28fc-81a0-4c70-bf64-4247c8768de7')\"\n",
              "              title=\"Convert this dataframe to an interactive table.\"\n",
              "              style=\"display:none;\">\n",
              "        \n",
              "  <svg xmlns=\"http://www.w3.org/2000/svg\" height=\"24px\"viewBox=\"0 0 24 24\"\n",
              "       width=\"24px\">\n",
              "    <path d=\"M0 0h24v24H0V0z\" fill=\"none\"/>\n",
              "    <path d=\"M18.56 5.44l.94 2.06.94-2.06 2.06-.94-2.06-.94-.94-2.06-.94 2.06-2.06.94zm-11 1L8.5 8.5l.94-2.06 2.06-.94-2.06-.94L8.5 2.5l-.94 2.06-2.06.94zm10 10l.94 2.06.94-2.06 2.06-.94-2.06-.94-.94-2.06-.94 2.06-2.06.94z\"/><path d=\"M17.41 7.96l-1.37-1.37c-.4-.4-.92-.59-1.43-.59-.52 0-1.04.2-1.43.59L10.3 9.45l-7.72 7.72c-.78.78-.78 2.05 0 2.83L4 21.41c.39.39.9.59 1.41.59.51 0 1.02-.2 1.41-.59l7.78-7.78 2.81-2.81c.8-.78.8-2.07 0-2.86zM5.41 20L4 18.59l7.72-7.72 1.47 1.35L5.41 20z\"/>\n",
              "  </svg>\n",
              "      </button>\n",
              "      \n",
              "  <style>\n",
              "    .colab-df-container {\n",
              "      display:flex;\n",
              "      flex-wrap:wrap;\n",
              "      gap: 12px;\n",
              "    }\n",
              "\n",
              "    .colab-df-convert {\n",
              "      background-color: #E8F0FE;\n",
              "      border: none;\n",
              "      border-radius: 50%;\n",
              "      cursor: pointer;\n",
              "      display: none;\n",
              "      fill: #1967D2;\n",
              "      height: 32px;\n",
              "      padding: 0 0 0 0;\n",
              "      width: 32px;\n",
              "    }\n",
              "\n",
              "    .colab-df-convert:hover {\n",
              "      background-color: #E2EBFA;\n",
              "      box-shadow: 0px 1px 2px rgba(60, 64, 67, 0.3), 0px 1px 3px 1px rgba(60, 64, 67, 0.15);\n",
              "      fill: #174EA6;\n",
              "    }\n",
              "\n",
              "    [theme=dark] .colab-df-convert {\n",
              "      background-color: #3B4455;\n",
              "      fill: #D2E3FC;\n",
              "    }\n",
              "\n",
              "    [theme=dark] .colab-df-convert:hover {\n",
              "      background-color: #434B5C;\n",
              "      box-shadow: 0px 1px 3px 1px rgba(0, 0, 0, 0.15);\n",
              "      filter: drop-shadow(0px 1px 2px rgba(0, 0, 0, 0.3));\n",
              "      fill: #FFFFFF;\n",
              "    }\n",
              "  </style>\n",
              "\n",
              "      <script>\n",
              "        const buttonEl =\n",
              "          document.querySelector('#df-315b28fc-81a0-4c70-bf64-4247c8768de7 button.colab-df-convert');\n",
              "        buttonEl.style.display =\n",
              "          google.colab.kernel.accessAllowed ? 'block' : 'none';\n",
              "\n",
              "        async function convertToInteractive(key) {\n",
              "          const element = document.querySelector('#df-315b28fc-81a0-4c70-bf64-4247c8768de7');\n",
              "          const dataTable =\n",
              "            await google.colab.kernel.invokeFunction('convertToInteractive',\n",
              "                                                     [key], {});\n",
              "          if (!dataTable) return;\n",
              "\n",
              "          const docLinkHtml = 'Like what you see? Visit the ' +\n",
              "            '<a target=\"_blank\" href=https://colab.research.google.com/notebooks/data_table.ipynb>data table notebook</a>'\n",
              "            + ' to learn more about interactive tables.';\n",
              "          element.innerHTML = '';\n",
              "          dataTable['output_type'] = 'display_data';\n",
              "          await google.colab.output.renderOutput(dataTable, element);\n",
              "          const docLink = document.createElement('div');\n",
              "          docLink.innerHTML = docLinkHtml;\n",
              "          element.appendChild(docLink);\n",
              "        }\n",
              "      </script>\n",
              "    </div>\n",
              "  </div>\n",
              "  "
            ]
          },
          "metadata": {},
          "execution_count": 94
        }
      ]
    },
    {
      "cell_type": "code",
      "source": [
        ""
      ],
      "metadata": {
        "id": "Le6BdmnMYo6h"
      },
      "execution_count": null,
      "outputs": []
    }
  ]
}